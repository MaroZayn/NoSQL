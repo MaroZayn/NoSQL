{
 "cells": [
  {
   "cell_type": "markdown",
   "metadata": {},
   "source": [
    "# Introduction\n",
    "\n",
    "At this point you only worked with SQL Databases. In other words, your data was held in a relational database management system (Basically a scalable csv). This allows you to work with huge amount of data and extract the rows you need using queries.\n",
    "So what exactly is NoSQL and why do we need it ? is SQL not enough ?\n",
    "\n",
    "## The context\n",
    "\n",
    "Nothing new but we are surrounded by a lot of data, information flows faster than ever (i.e: big data). But what exactly is the type of data we get in huge quantity ? Text, Networks, Sound, Image, ...\n",
    "\n",
    "\n",
    "## What is NoSQL ? SQL vs NoSQL\n",
    "\n",
    "NoSQL stands for \"Not only SQL\", every database that does not use SQL (Structured Query Language) is called NoSQL even though every NoSQL DB does not work the same way. The difference between SQL and NoSQL databases is really just a comparison of relational vs. non-relational databases. Deciding when to use SQL vs. NoSQL depends on the kind of information you’re storing and the best way to store it. Both types store data, they just store data differently.\n",
    "Imagine you have a list of variables for research papers. authors, affiliations, title, references. How do you store it in a csv ?  "
   ]
  },
  {
   "cell_type": "code",
   "execution_count": 1,
   "metadata": {},
   "outputs": [],
   "source": [
    "# Init variables\n",
    "authors = [\"Auteur1\",\"Auteur2\",\"Auteur3\"]\n",
    "title = \"This is paper 1\"\n",
    "affiliations = [\"University of Mannheim\",\"University of Strasbourg\"]\n",
    "ref = [\"This is ref 1\",\"This is ref 2\",\"This is ref 3\"]\n"
   ]
  },
  {
   "cell_type": "markdown",
   "metadata": {},
   "source": [
    "I'll do a short introduction on sqlite3. I think it's a good entry point to SQL since its local and you can still monitor your data visually using [DB Browser](https://sqlitebrowser.org/). SQL is in no case to be learned for the exam ! \n",
    "\n",
    "\"SQLite is a C-language library that implements a small, fast, self-contained, high-reliability, full-featured, SQL database engine.\" [(Official website)](https://www.sqlite.org/index.html). Sqlite3 is a library that provides an api that allows python 3 to interact with your sqlite DB. Incompatibility with python 2 so beware."
   ]
  },
  {
   "cell_type": "code",
   "execution_count": 2,
   "metadata": {},
   "outputs": [
    {
     "name": "stdout",
     "output_type": "stream",
     "text": [
      "no such table: main.id\n"
     ]
    }
   ],
   "source": [
    "# Create the DB\n",
    "import sqlite3\n",
    "\n",
    "# connect to your db, if it does not exists it creates it.\n",
    "conn = sqlite3.connect('data/tuts.db')\n",
    "\n",
    "c = conn.cursor()\n",
    "\n",
    "# Simple function to create table\n",
    "\n",
    "def create_table_test():\n",
    "    try:\n",
    "        c.execute(\"\"\"CREATE TABLE IF NOT EXISTS test(id INT PRIMARY KEY, authors TEXT,\n",
    "                    title TEXT,affiliations TEXT, ref TEXT)\"\"\")\n",
    "        # Index to do query faster\n",
    "        c.execute(\"CREATE INDEX fast_id ON id(id)\")\n",
    "        conn.commit()\n",
    "    except Exception as e:\n",
    "        print(str(e))\n",
    "        \n",
    "# Sqlite3 excepts a table named \"main\" and therefore gives you a warning (can be ignored)\n",
    "create_table_test()\n"
   ]
  },
  {
   "cell_type": "code",
   "execution_count": 3,
   "metadata": {},
   "outputs": [
    {
     "name": "stdout",
     "output_type": "stream",
     "text": [
      "Auteur1\n",
      "Auteur2\n",
      "Auteur3\n"
     ]
    }
   ],
   "source": [
    "# Collapse the list\n",
    "authors = \"\\n\".join(authors)\n",
    "aff = \"\\n\".join(affiliations)\n",
    "ref = \"\\n\".join(ref)\n",
    "print(authors)\n"
   ]
  },
  {
   "cell_type": "code",
   "execution_count": 4,
   "metadata": {},
   "outputs": [],
   "source": [
    "# SQL can be finicky when trying to insert using python, big difference between \" and '\n",
    "query = \"\"\"INSERT INTO test(id, authors,title,affiliations, ref) VALUES (?,?,?,?,?)\"\"\"\n",
    "values = (3,authors,title,aff, ref)\n",
    "c.execute(query, values)\n",
    "conn.commit()"
   ]
  },
  {
   "cell_type": "markdown",
   "metadata": {},
   "source": [
    "You can use [DB browser](https://sqlitebrowser.org/) to check if it worked without going through Python. Sqlite3+DB browser is an easy entry point to SQL (still able to see your data, no server involved). Here is an example of basic operations of SQLite on the iris database."
   ]
  },
  {
   "cell_type": "code",
   "execution_count": 1,
   "metadata": {},
   "outputs": [
    {
     "name": "stdout",
     "output_type": "stream",
     "text": [
      "[(5.1, 3.5, 1.4, 0.2, 'Setosa'), (5.4, 3.9, 1.7, 0.4, 'Setosa'), (5.4, 3.7, 1.5, 0.2, 'Setosa'), (5.8, 4, 1.2, 0.2, 'Setosa'), (5.7, 4.4, 1.5, 0.4, 'Setosa'), (5.4, 3.9, 1.3, 0.4, 'Setosa'), (5.1, 3.5, 1.4, 0.3, 'Setosa'), (5.7, 3.8, 1.7, 0.3, 'Setosa'), (5.1, 3.8, 1.5, 0.3, 'Setosa'), (5.4, 3.4, 1.7, 0.2, 'Setosa'), (5.1, 3.7, 1.5, 0.4, 'Setosa'), (5.1, 3.3, 1.7, 0.5, 'Setosa'), (5.2, 3.5, 1.5, 0.2, 'Setosa'), (5.2, 3.4, 1.4, 0.2, 'Setosa'), (5.4, 3.4, 1.5, 0.4, 'Setosa'), (5.2, 4.1, 1.5, 0.1, 'Setosa'), (5.5, 4.2, 1.4, 0.2, 'Setosa'), (5.5, 3.5, 1.3, 0.2, 'Setosa'), (5.1, 3.4, 1.5, 0.2, 'Setosa'), (5.1, 3.8, 1.9, 0.4, 'Setosa'), (5.1, 3.8, 1.6, 0.2, 'Setosa'), (5.3, 3.7, 1.5, 0.2, 'Setosa'), (7.0, 3.2, 4.7, 1.4, 'Versicolor'), (6.4, 3.2, 4.5, 1.5, 'Versicolor'), (6.9, 3.1, 4.9, 1.5, 'Versicolor'), (5.5, 2.3, 4.0, 1.3, 'Versicolor'), (6.5, 2.8, 4.6, 1.5, 'Versicolor'), (5.7, 2.8, 4.5, 1.3, 'Versicolor'), (6.3, 3.3, 4.7, 1.6, 'Versicolor'), (6.6, 2.9, 4.6, 1.3, 'Versicolor'), (5.2, 2.7, 3.9, 1.4, 'Versicolor'), (5.9, 3, 4.2, 1.5, 'Versicolor'), (6.0, 2.2, 4.0, 1.0, 'Versicolor'), (6.1, 2.9, 4.7, 1.4, 'Versicolor'), (5.6, 2.9, 3.6, 1.3, 'Versicolor'), (6.7, 3.1, 4.4, 1.4, 'Versicolor'), (5.6, 3, 4.5, 1.5, 'Versicolor'), (5.8, 2.7, 4.1, 1.0, 'Versicolor'), (6.2, 2.2, 4.5, 1.5, 'Versicolor'), (5.6, 2.5, 3.9, 1.1, 'Versicolor'), (5.9, 3.2, 4.8, 1.8, 'Versicolor'), (6.1, 2.8, 4.0, 1.3, 'Versicolor'), (6.3, 2.5, 4.9, 1.5, 'Versicolor'), (6.1, 2.8, 4.7, 1.2, 'Versicolor'), (6.4, 2.9, 4.3, 1.3, 'Versicolor'), (6.6, 3, 4.4, 1.4, 'Versicolor'), (6.8, 2.8, 4.8, 1.4, 'Versicolor'), (6.7, 3, 5.0, 1.7, 'Versicolor'), (6.0, 2.9, 4.5, 1.5, 'Versicolor'), (5.7, 2.6, 3.5, 1.0, 'Versicolor'), (5.5, 2.4, 3.8, 1.1, 'Versicolor'), (5.5, 2.4, 3.7, 1.0, 'Versicolor'), (5.8, 2.7, 3.9, 1.2, 'Versicolor'), (6.0, 2.7, 5.1, 1.6, 'Versicolor'), (5.4, 3, 4.5, 1.5, 'Versicolor'), (6.0, 3.4, 4.5, 1.6, 'Versicolor'), (6.7, 3.1, 4.7, 1.5, 'Versicolor'), (6.3, 2.3, 4.4, 1.3, 'Versicolor'), (5.6, 3, 4.1, 1.3, 'Versicolor'), (5.5, 2.5, 4.0, 1.3, 'Versicolor'), (5.5, 2.6, 4.4, 1.2, 'Versicolor'), (6.1, 3, 4.6, 1.4, 'Versicolor'), (5.8, 2.6, 4.0, 1.2, 'Versicolor'), (5.6, 2.7, 4.2, 1.3, 'Versicolor'), (5.7, 3, 4.2, 1.2, 'Versicolor'), (5.7, 2.9, 4.2, 1.3, 'Versicolor'), (6.2, 2.9, 4.3, 1.3, 'Versicolor'), (5.1, 2.5, 3.0, 1.1, 'Versicolor'), (5.7, 2.8, 4.1, 1.3, 'Versicolor'), (6.3, 3.3, 6.0, 2.5, 'Virginica'), (5.8, 2.7, 5.1, 1.9, 'Virginica'), (7.1, 3, 5.9, 2.1, 'Virginica'), (6.3, 2.9, 5.6, 1.8, 'Virginica'), (6.5, 3, 5.8, 2.2, 'Virginica'), (7.6, 3, 6.6, 2.1, 'Virginica'), (7.3, 2.9, 6.3, 1.8, 'Virginica'), (6.7, 2.5, 5.8, 1.8, 'Virginica'), (7.2, 3.6, 6.1, 2.5, 'Virginica'), (6.5, 3.2, 5.1, 2.0, 'Virginica'), (6.4, 2.7, 5.3, 1.9, 'Virginica'), (6.8, 3, 5.5, 2.1, 'Virginica'), (5.7, 2.5, 5.0, 2.0, 'Virginica'), (5.8, 2.8, 5.1, 2.4, 'Virginica'), (6.4, 3.2, 5.3, 2.3, 'Virginica'), (6.5, 3, 5.5, 1.8, 'Virginica'), (7.7, 3.8, 6.7, 2.2, 'Virginica'), (7.7, 2.6, 6.9, 2.3, 'Virginica'), (6.0, 2.2, 5.0, 1.5, 'Virginica'), (6.9, 3.2, 5.7, 2.3, 'Virginica'), (5.6, 2.8, 4.9, 2.0, 'Virginica'), (7.7, 2.8, 6.7, 2.0, 'Virginica'), (6.3, 2.7, 4.9, 1.8, 'Virginica'), (6.7, 3.3, 5.7, 2.1, 'Virginica'), (7.2, 3.2, 6.0, 1.8, 'Virginica'), (6.2, 2.8, 4.8, 1.8, 'Virginica'), (6.1, 3, 4.9, 1.8, 'Virginica'), (6.4, 2.8, 5.6, 2.1, 'Virginica'), (7.2, 3, 5.8, 1.6, 'Virginica'), (7.4, 2.8, 6.1, 1.9, 'Virginica'), (7.9, 3.8, 6.4, 2.0, 'Virginica'), (6.4, 2.8, 5.6, 2.2, 'Virginica'), (6.3, 2.8, 5.1, 1.5, 'Virginica'), (6.1, 2.6, 5.6, 1.4, 'Virginica'), (7.7, 3, 6.1, 2.3, 'Virginica'), (6.3, 3.4, 5.6, 2.4, 'Virginica'), (6.4, 3.1, 5.5, 1.8, 'Virginica'), (6.0, 3, 4.8, 1.8, 'Virginica'), (6.9, 3.1, 5.4, 2.1, 'Virginica'), (6.7, 3.1, 5.6, 2.4, 'Virginica'), (6.9, 3.1, 5.1, 2.3, 'Virginica'), (5.8, 2.7, 5.1, 1.9, 'Virginica'), (6.8, 3.2, 5.9, 2.3, 'Virginica'), (6.7, 3.3, 5.7, 2.5, 'Virginica'), (6.7, 3, 5.2, 2.3, 'Virginica'), (6.3, 2.5, 5.0, 1.9, 'Virginica'), (6.5, 3, 5.2, 2.0, 'Virginica'), (6.2, 3.4, 5.4, 2.3, 'Virginica'), (5.9, 3, 5.1, 1.8, 'Virginica')]\n"
     ]
    }
   ],
   "source": [
    "import sqlite3\n",
    "\n",
    "conn = sqlite3.connect('data/Introduction/iris.db')\n",
    "\n",
    "c = conn.cursor()\n",
    "\n",
    "# READ, Look at all the iris with sepal length > 5.\n",
    "\n",
    "c.execute(\"\"\"SELECT * FROM iris WHERE \"petal.length\" > 5\"\"\")\n",
    "docs = c.fetchall()\n",
    "\n",
    "print(docs)\n"
   ]
  },
  {
   "cell_type": "code",
   "execution_count": 4,
   "metadata": {},
   "outputs": [],
   "source": [
    "# UPDATE\n",
    "\n",
    "c.execute(\"\"\"UPDATE iris\n",
    "             SET \"sepal.length\" = 3\n",
    "             WHERE variety == \"Versicolor\"; \"\"\")\n",
    "\n",
    "conn.commit()"
   ]
  },
  {
   "cell_type": "code",
   "execution_count": 15,
   "metadata": {},
   "outputs": [],
   "source": [
    "c.execute(\"\"\"UPDATE iris\n",
    "             SET \"sepal.length\" = random()+1\n",
    "             WHERE variety == \"Versicolor\" \"\"\")\n",
    "\n",
    "conn.commit()"
   ]
  },
  {
   "cell_type": "code",
   "execution_count": 17,
   "metadata": {},
   "outputs": [
    {
     "data": {
      "text/plain": [
       "<sqlite3.Cursor at 0x264f1e5e8f0>"
      ]
     },
     "execution_count": 17,
     "metadata": {},
     "output_type": "execute_result"
    }
   ],
   "source": [
    "# DELETE\n",
    "\n",
    "c.execute(\"\"\"DELETE FROM iris WHERE \"sepal.length\" > 5\"\"\")\n",
    "\n",
    "#conn.commit() warning it will alter your db "
   ]
  },
  {
   "cell_type": "markdown",
   "metadata": {},
   "source": [
    "[Here]( https://www.sqltutorial.org/sql-cheat-sheet/) are some cheat sheet for SQL querys.\n",
    "\n",
    "A csv (or RDBMS) works but is it really efficient ? Imagine a scenario with even more nested data (each author has an aff, an aff can have a list a members, each members has an age, ...).You could create different tables but each time you will need to join information of this different tables. That's where NoSQL comes in to save the day.\n",
    "\n",
    "\n",
    "Modifying the architecture in SQL is clunky. A lot of time is invested designing the data model because changes will impact all or most of the layers in the application.\n",
    "\n",
    "NoSQL is:\n",
    "- Meant for unstructured data.\n",
    "- Designed to manage lots of traffic and data.\n",
    "- Has no predefined schema.\n",
    "- Easy to query.\n",
    "\n",
    "Because of the context (Big Data), Unstructured data has become more and more present hence the interest in NoSQL. Indeed JSON (more on that in chapter I) data is the commonly used data format in Javascript and Javascript is present everywhere in almost every web page (dynamic vs static).\n",
    "\n",
    "The biggest advantage of NoSQL is that you get to skip the \"understand your data and usage patterns\" steps. But is it really an advantage ?\n",
    "\n",
    "NoSQL cons:\n",
    "- Don't really know what you are working with\n",
    "- Multiplicity of different DB (Meaning different \"language\" for some)\n",
    "- Flexible but can become messy so watch out\n",
    "\n",
    "IMO: Use SQL when you have a Static data flow or the change in the data is not regular and if the data fits in a row-column format. It's always better to have a good structure even if it asks to put a lot of work before hand. If you need flexibility or the data is really nested using Nosql DBs reduces the need for joins and lookups, making your queries faster.\n"
   ]
  },
  {
   "cell_type": "markdown",
   "metadata": {},
   "source": [
    "<p style=\"text-align: center;\"><b>Proportion of DBs usage</b></p>"
   ]
  },
  {
   "cell_type": "markdown",
   "metadata": {},
   "source": [
    "![test](./img/DB_piechart.png \"Title\")"
   ]
  },
  {
   "cell_type": "markdown",
   "metadata": {},
   "source": [
    "The popularity of DBs using SQL is still high (3/4). In your opinion why ? "
   ]
  },
  {
   "cell_type": "markdown",
   "metadata": {},
   "source": [
    "<p style=\"text-align: center;\"><b>Non exhaustive list of companies using NoSQL</b></p>"
   ]
  },
  {
   "cell_type": "markdown",
   "metadata": {},
   "source": [
    "<table><tr>\n",
    "<td> <img src=\"./img/Google.png\" alt=\"Drawing\" style=\"width: 150px;\"/> </td>\n",
    "<td> <img src=\"./img/Amazon logo.png\" alt=\"Drawing\" style=\"width: 150px;\"/> </td>\n",
    "<td> <img src=\"./img/Facebook.png\" alt=\"Drawing\" style=\"width: 150px;\"/> </td>\n",
    "<td> <img src=\"./img/Mozilla.png\" alt=\"Drawing\" style=\"width: 150px;\"/> </td>\n",
    "<td> <img src=\"./img/netflix.png\" alt=\"Drawing\" style=\"width: 150px;\"/> </td>\n",
    "<td> <img src=\"./img/Twitter.png\" alt=\"Drawing\" style=\"width: 150px;\"/> </td>\n",
    "</tr></table>"
   ]
  },
  {
   "cell_type": "markdown",
   "metadata": {},
   "source": [
    "Think before using one or the other.\n",
    "\n",
    "Before jumping into NoSQL directly we will take a look at what a unstructured data format looks like."
   ]
  }
 ],
 "metadata": {
  "kernelspec": {
   "display_name": "Python 3 (ipykernel)",
   "language": "python",
   "name": "python3"
  },
  "language_info": {
   "codemirror_mode": {
    "name": "ipython",
    "version": 3
   },
   "file_extension": ".py",
   "mimetype": "text/x-python",
   "name": "python",
   "nbconvert_exporter": "python",
   "pygments_lexer": "ipython3",
   "version": "3.8.8"
  }
 },
 "nbformat": 4,
 "nbformat_minor": 4
}
