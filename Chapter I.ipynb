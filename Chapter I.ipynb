{
 "cells": [
  {
   "attachments": {},
   "cell_type": "markdown",
   "metadata": {},
   "source": [
    "# Introduction\n",
    "\n",
    "NoSQL databases are a popular alternative to traditional relational databases for handling big data and it offers high scalability, high availability and high flexibility. The course will teach you how to work with NoSQL databases and how to choose the right NoSQL database for your specific needs. \n",
    "\n",
    "## Relational databases and tabular data\n",
    "\n",
    "Before jumping straight on NoSQL DBs let's take a step back with relational databases and tabular data. The most common format you probably encountered in programming is Comma Separated Values (CSV). CSV is a plain text file format used to store tabular data, with each row of the table represented as a separate line in the file and each column separated by a comma or other delimiter.\n",
    "\n"
   ]
  },
  {
   "cell_type": "code",
   "execution_count": 47,
   "metadata": {},
   "outputs": [
    {
     "data": {
      "text/html": [
       "<div>\n",
       "<style scoped>\n",
       "    .dataframe tbody tr th:only-of-type {\n",
       "        vertical-align: middle;\n",
       "    }\n",
       "\n",
       "    .dataframe tbody tr th {\n",
       "        vertical-align: top;\n",
       "    }\n",
       "\n",
       "    .dataframe thead th {\n",
       "        text-align: right;\n",
       "    }\n",
       "</style>\n",
       "<table border=\"1\" class=\"dataframe\">\n",
       "  <thead>\n",
       "    <tr style=\"text-align: right;\">\n",
       "      <th></th>\n",
       "      <th>sepal.length</th>\n",
       "      <th>sepal.width</th>\n",
       "      <th>petal.length</th>\n",
       "      <th>petal.width</th>\n",
       "      <th>variety</th>\n",
       "    </tr>\n",
       "  </thead>\n",
       "  <tbody>\n",
       "    <tr>\n",
       "      <th>0</th>\n",
       "      <td>5.1</td>\n",
       "      <td>3.5</td>\n",
       "      <td>1.4</td>\n",
       "      <td>0.2</td>\n",
       "      <td>Setosa</td>\n",
       "    </tr>\n",
       "    <tr>\n",
       "      <th>1</th>\n",
       "      <td>4.9</td>\n",
       "      <td>3.0</td>\n",
       "      <td>1.4</td>\n",
       "      <td>0.2</td>\n",
       "      <td>Setosa</td>\n",
       "    </tr>\n",
       "    <tr>\n",
       "      <th>2</th>\n",
       "      <td>4.7</td>\n",
       "      <td>3.2</td>\n",
       "      <td>1.3</td>\n",
       "      <td>0.2</td>\n",
       "      <td>Setosa</td>\n",
       "    </tr>\n",
       "    <tr>\n",
       "      <th>3</th>\n",
       "      <td>4.6</td>\n",
       "      <td>3.1</td>\n",
       "      <td>1.5</td>\n",
       "      <td>0.2</td>\n",
       "      <td>Setosa</td>\n",
       "    </tr>\n",
       "    <tr>\n",
       "      <th>4</th>\n",
       "      <td>5.0</td>\n",
       "      <td>3.6</td>\n",
       "      <td>1.4</td>\n",
       "      <td>0.2</td>\n",
       "      <td>Setosa</td>\n",
       "    </tr>\n",
       "  </tbody>\n",
       "</table>\n",
       "</div>"
      ],
      "text/plain": [
       "   sepal.length  sepal.width  petal.length  petal.width variety\n",
       "0           5.1          3.5           1.4          0.2  Setosa\n",
       "1           4.9          3.0           1.4          0.2  Setosa\n",
       "2           4.7          3.2           1.3          0.2  Setosa\n",
       "3           4.6          3.1           1.5          0.2  Setosa\n",
       "4           5.0          3.6           1.4          0.2  Setosa"
      ]
     },
     "execution_count": 47,
     "metadata": {},
     "output_type": "execute_result"
    }
   ],
   "source": [
    "import pandas as pd\n",
    "\n",
    "df = pd.read_csv(\"data/Chap1/iris.csv\")\n",
    "df.head()"
   ]
  },
  {
   "cell_type": "code",
   "execution_count": 4,
   "metadata": {},
   "outputs": [
    {
     "name": "stdout",
     "output_type": "stream",
     "text": [
      "0      5.1\n",
      "1      4.9\n",
      "2      4.7\n",
      "3      4.6\n",
      "4      5.0\n",
      "      ... \n",
      "145    6.7\n",
      "146    6.3\n",
      "147    6.5\n",
      "148    6.2\n",
      "149    5.9\n",
      "Name: sepal.length, Length: 150, dtype: float64\n",
      "5.1\n",
      "sepal.length       5.1\n",
      "sepal.width        3.5\n",
      "petal.length       1.4\n",
      "petal.width        0.2\n",
      "variety         Setosa\n",
      "Name: 0, dtype: object\n"
     ]
    },
    {
     "data": {
      "text/html": [
       "<div>\n",
       "<style scoped>\n",
       "    .dataframe tbody tr th:only-of-type {\n",
       "        vertical-align: middle;\n",
       "    }\n",
       "\n",
       "    .dataframe tbody tr th {\n",
       "        vertical-align: top;\n",
       "    }\n",
       "\n",
       "    .dataframe thead th {\n",
       "        text-align: right;\n",
       "    }\n",
       "</style>\n",
       "<table border=\"1\" class=\"dataframe\">\n",
       "  <thead>\n",
       "    <tr style=\"text-align: right;\">\n",
       "      <th></th>\n",
       "      <th>sepal.length</th>\n",
       "      <th>sepal.width</th>\n",
       "      <th>petal.length</th>\n",
       "      <th>petal.width</th>\n",
       "      <th>variety</th>\n",
       "    </tr>\n",
       "  </thead>\n",
       "  <tbody>\n",
       "    <tr>\n",
       "      <th>0</th>\n",
       "      <td>5.1</td>\n",
       "      <td>3.5</td>\n",
       "      <td>1.4</td>\n",
       "      <td>0.2</td>\n",
       "      <td>Setosa</td>\n",
       "    </tr>\n",
       "    <tr>\n",
       "      <th>1</th>\n",
       "      <td>4.9</td>\n",
       "      <td>3.0</td>\n",
       "      <td>1.4</td>\n",
       "      <td>0.2</td>\n",
       "      <td>Setosa</td>\n",
       "    </tr>\n",
       "    <tr>\n",
       "      <th>2</th>\n",
       "      <td>4.7</td>\n",
       "      <td>3.2</td>\n",
       "      <td>1.3</td>\n",
       "      <td>0.2</td>\n",
       "      <td>Setosa</td>\n",
       "    </tr>\n",
       "    <tr>\n",
       "      <th>3</th>\n",
       "      <td>4.6</td>\n",
       "      <td>3.1</td>\n",
       "      <td>1.5</td>\n",
       "      <td>0.2</td>\n",
       "      <td>Setosa</td>\n",
       "    </tr>\n",
       "    <tr>\n",
       "      <th>4</th>\n",
       "      <td>5.0</td>\n",
       "      <td>3.6</td>\n",
       "      <td>1.4</td>\n",
       "      <td>0.2</td>\n",
       "      <td>Setosa</td>\n",
       "    </tr>\n",
       "    <tr>\n",
       "      <th>...</th>\n",
       "      <td>...</td>\n",
       "      <td>...</td>\n",
       "      <td>...</td>\n",
       "      <td>...</td>\n",
       "      <td>...</td>\n",
       "    </tr>\n",
       "    <tr>\n",
       "      <th>145</th>\n",
       "      <td>6.7</td>\n",
       "      <td>3.0</td>\n",
       "      <td>5.2</td>\n",
       "      <td>2.3</td>\n",
       "      <td>Virginica</td>\n",
       "    </tr>\n",
       "    <tr>\n",
       "      <th>146</th>\n",
       "      <td>6.3</td>\n",
       "      <td>2.5</td>\n",
       "      <td>5.0</td>\n",
       "      <td>1.9</td>\n",
       "      <td>Virginica</td>\n",
       "    </tr>\n",
       "    <tr>\n",
       "      <th>147</th>\n",
       "      <td>6.5</td>\n",
       "      <td>3.0</td>\n",
       "      <td>5.2</td>\n",
       "      <td>2.0</td>\n",
       "      <td>Virginica</td>\n",
       "    </tr>\n",
       "    <tr>\n",
       "      <th>148</th>\n",
       "      <td>6.2</td>\n",
       "      <td>3.4</td>\n",
       "      <td>5.4</td>\n",
       "      <td>2.3</td>\n",
       "      <td>Virginica</td>\n",
       "    </tr>\n",
       "    <tr>\n",
       "      <th>149</th>\n",
       "      <td>5.9</td>\n",
       "      <td>3.0</td>\n",
       "      <td>5.1</td>\n",
       "      <td>1.8</td>\n",
       "      <td>Virginica</td>\n",
       "    </tr>\n",
       "  </tbody>\n",
       "</table>\n",
       "<p>146 rows × 5 columns</p>\n",
       "</div>"
      ],
      "text/plain": [
       "     sepal.length  sepal.width  petal.length  petal.width    variety\n",
       "0             5.1          3.5           1.4          0.2     Setosa\n",
       "1             4.9          3.0           1.4          0.2     Setosa\n",
       "2             4.7          3.2           1.3          0.2     Setosa\n",
       "3             4.6          3.1           1.5          0.2     Setosa\n",
       "4             5.0          3.6           1.4          0.2     Setosa\n",
       "..            ...          ...           ...          ...        ...\n",
       "145           6.7          3.0           5.2          2.3  Virginica\n",
       "146           6.3          2.5           5.0          1.9  Virginica\n",
       "147           6.5          3.0           5.2          2.0  Virginica\n",
       "148           6.2          3.4           5.4          2.3  Virginica\n",
       "149           5.9          3.0           5.1          1.8  Virginica\n",
       "\n",
       "[146 rows x 5 columns]"
      ]
     },
     "execution_count": 4,
     "metadata": {},
     "output_type": "execute_result"
    }
   ],
   "source": [
    "print(df[\"sepal.length\"])\n",
    "print(df.at[0,\"sepal.length\"])\n",
    "print(df.loc[0])\n",
    "df[(df[\"sepal.length\"] > 3) & (df[\"petal.length\"] > 1.2)]"
   ]
  },
  {
   "cell_type": "code",
   "execution_count": 48,
   "metadata": {},
   "outputs": [
    {
     "name": "stdout",
     "output_type": "stream",
     "text": [
      "(0, sepal.length       5.1\n",
      "sepal.width        3.5\n",
      "petal.length       1.4\n",
      "petal.width        0.2\n",
      "variety         Setosa\n",
      "Name: 0, dtype: object)\n"
     ]
    }
   ],
   "source": [
    "# Iterate over all db\n",
    "\n",
    "for row in df.iterrows():\n",
    "    print(row)\n",
    "    break"
   ]
  },
  {
   "attachments": {},
   "cell_type": "markdown",
   "metadata": {},
   "source": [
    "Yet tabular data are impractical for huge amount of data \n",
    "\n",
    "Relational databases are a type of database management system that organize data into one or more tables or relations, with each table consisting of a set of rows and columns. Each row represents a unique record or entity, while each column represents a particular attribute or characteristic of that entity.\n",
    "\n",
    "In a relational database, the tables are related to each other through common fields or keys. For example, if you have a customer table and an orders table, you could link them through a customer ID field, which would allow you to associate specific orders with specific customers.\n",
    "\n",
    "Relational databases use a structured query language (SQL) to retrieve and manipulate data. SQL allows users to create, update, delete, and retrieve data from one or more tables based on specific criteria or conditions.\n",
    "\n",
    "Relational databases offer several advantages, including:\n",
    "\n",
    "- Data consistency: Data is consistent and standardized across an organization.\n",
    "\n",
    "- Scalability: Relational databases can handle large amounts of data and can easily scale as data volumes increase (Data not in your RAM).\n",
    "\n",
    "- Flexibility: Changes to a database structure can be made relatively easily and without disrupting existing applications or data.\n",
    "\n",
    "- Security: Relational databases offer built-in security features, such as user authentication and access control, to protect sensitive data.\n"
   ]
  },
  {
   "attachments": {},
   "cell_type": "markdown",
   "metadata": {},
   "source": [
    "I'll do a short introduction on sqlite3. I think it's a good entry point to SQL since its local and you can still monitor your data visually using [DB Browser](https://sqlitebrowser.org/).\n",
    "\n",
    "\"SQLite is a C-language library that implements a small, fast, self-contained, high-reliability, full-featured, SQL database engine.\" [(Official website)](https://www.sqlite.org/index.html). Sqlite3 is a library that provides an api that allows python 3 to interact with your sqlite DB. Incompatibility with python 2 so beware."
   ]
  },
  {
   "attachments": {},
   "cell_type": "markdown",
   "metadata": {},
   "source": [
    "You can use [DB browser](https://sqlitebrowser.org/) to check if it worked without going through Python. Sqlite3+DB browser is an easy entry point to SQL (still able to see your data, no server involved). Here is an example of basic operations of SQLite on the iris database. Starting with DB already existing:"
   ]
  },
  {
   "cell_type": "code",
   "execution_count": 9,
   "metadata": {},
   "outputs": [
    {
     "name": "stdout",
     "output_type": "stream",
     "text": [
      "[(5.546002960504148e+18, 2.7, 5.1, 1.6, 'Versicolor'), (6.3, 3.3, 6.0, 2.5, 'Virginica'), (5.8, 2.7, 5.1, 1.9, 'Virginica'), (7.1, 3, 5.9, 2.1, 'Virginica'), (6.3, 2.9, 5.6, 1.8, 'Virginica'), (6.5, 3, 5.8, 2.2, 'Virginica'), (7.6, 3, 6.6, 2.1, 'Virginica'), (7.3, 2.9, 6.3, 1.8, 'Virginica'), (6.7, 2.5, 5.8, 1.8, 'Virginica'), (7.2, 3.6, 6.1, 2.5, 'Virginica'), (6.5, 3.2, 5.1, 2.0, 'Virginica'), (6.4, 2.7, 5.3, 1.9, 'Virginica'), (6.8, 3, 5.5, 2.1, 'Virginica'), (5.8, 2.8, 5.1, 2.4, 'Virginica'), (6.4, 3.2, 5.3, 2.3, 'Virginica'), (6.5, 3, 5.5, 1.8, 'Virginica'), (7.7, 3.8, 6.7, 2.2, 'Virginica'), (7.7, 2.6, 6.9, 2.3, 'Virginica'), (6.9, 3.2, 5.7, 2.3, 'Virginica'), (7.7, 2.8, 6.7, 2.0, 'Virginica'), (6.7, 3.3, 5.7, 2.1, 'Virginica'), (7.2, 3.2, 6.0, 1.8, 'Virginica'), (6.4, 2.8, 5.6, 2.1, 'Virginica'), (7.2, 3, 5.8, 1.6, 'Virginica'), (7.4, 2.8, 6.1, 1.9, 'Virginica'), (7.9, 3.8, 6.4, 2.0, 'Virginica'), (6.4, 2.8, 5.6, 2.2, 'Virginica'), (6.3, 2.8, 5.1, 1.5, 'Virginica'), (6.1, 2.6, 5.6, 1.4, 'Virginica'), (7.7, 3, 6.1, 2.3, 'Virginica'), (6.3, 3.4, 5.6, 2.4, 'Virginica'), (6.4, 3.1, 5.5, 1.8, 'Virginica'), (6.9, 3.1, 5.4, 2.1, 'Virginica'), (6.7, 3.1, 5.6, 2.4, 'Virginica'), (6.9, 3.1, 5.1, 2.3, 'Virginica'), (5.8, 2.7, 5.1, 1.9, 'Virginica'), (6.8, 3.2, 5.9, 2.3, 'Virginica'), (6.7, 3.3, 5.7, 2.5, 'Virginica'), (6.7, 3, 5.2, 2.3, 'Virginica'), (6.5, 3, 5.2, 2.0, 'Virginica'), (6.2, 3.4, 5.4, 2.3, 'Virginica'), (5.9, 3, 5.1, 1.8, 'Virginica')]\n",
      "(5.546002960504148e+18, 2.7, 5.1, 1.6, 'Versicolor')\n"
     ]
    }
   ],
   "source": [
    "import sqlite3\n",
    "\n",
    "#  Establishes a connection to an SQLite database file. The only argument is the path (If the file does not exist and empty file is created)\n",
    "conn = sqlite3.connect('data/Chap1/iris.db')\n",
    "\n",
    "# A cursor in SQL databases is a database object that allows you to retrieve and manipulate a set of data rows returned by a SQL statement, one row at a time.\n",
    "c = conn.cursor()\n",
    "\n",
    "# READ query (SQL language), Look at all the iris with sepal length > 5.\n",
    "c.execute(\"\"\"SELECT * FROM iris WHERE \"petal.length\" > 5\"\"\")\n",
    "\n",
    "#%% Two methods to go through your result\n",
    "\n",
    "# All in RAM\n",
    "docs = c.fetchall()\n",
    "print(docs)\n",
    "\n",
    "# Iteration\n",
    "\n",
    "c.execute(\"\"\"SELECT * FROM iris WHERE \"petal.length\" > 5\"\"\")\n",
    "\n",
    "for i in c:\n",
    "    print(i)\n",
    "    break\n"
   ]
  },
  {
   "cell_type": "code",
   "execution_count": 7,
   "metadata": {},
   "outputs": [],
   "source": [
    "# UPDATE\n",
    "\n",
    "c.execute(\"\"\"UPDATE iris\n",
    "             SET \"sepal.length\" = 3\n",
    "             WHERE variety == \"Versicolor\" \"\"\")\n",
    "\n",
    "conn.commit()"
   ]
  },
  {
   "cell_type": "code",
   "execution_count": 8,
   "metadata": {},
   "outputs": [],
   "source": [
    "c.execute(\"\"\"UPDATE iris\n",
    "             SET \"sepal.length\" = random()+1\n",
    "             WHERE variety == \"Versicolor\" \"\"\")\n",
    "\n",
    "conn.commit()"
   ]
  },
  {
   "cell_type": "code",
   "execution_count": null,
   "metadata": {},
   "outputs": [],
   "source": [
    "# DELETE\n",
    "\n",
    "c.execute(\"\"\"DELETE FROM iris WHERE \"sepal.length\" > 5\"\"\")\n",
    "\n",
    "#conn.commit() warning it will alter your db "
   ]
  },
  {
   "attachments": {},
   "cell_type": "markdown",
   "metadata": {},
   "source": [
    "Now if the Database does not exist we can create it the following way"
   ]
  },
  {
   "cell_type": "code",
   "execution_count": 25,
   "metadata": {},
   "outputs": [
    {
     "name": "stdout",
     "output_type": "stream",
     "text": [
      "no such table: main.id\n"
     ]
    }
   ],
   "source": [
    "import tqdm\n",
    "import sqlite3\n",
    "import pandas as pd\n",
    "\n",
    "df = pd.read_csv('data/Chap1/iris.csv')\n",
    "\n",
    "conn = sqlite3.connect('data/Chap1/iris_manual.db')\n",
    "c = conn.cursor()\n",
    "\n",
    "# Simple function to create table\n",
    "\n",
    "def create_table_iris():\n",
    "    try:\n",
    "        c.execute(\"\"\"CREATE TABLE IF NOT EXISTS iris(id INT PRIMARY KEY, \"sepal.length\" FLOAT, \"sepal.width\" FLOAT,\n",
    "                     \"petal.length\" FLOAT, \"petal.width\" FLOAT, variety TEXT)\"\"\")\n",
    "        # When an index is created on a column, the database system creates a data structure that contains a sorted copy of the column's values. \n",
    "        # This allows the database system to perform data retrieval operations more quickly than if it had to scan the entire table every time a query was executed.\n",
    "        c.execute(\"CREATE INDEX fast_id ON id(id)\")\n",
    "        conn.commit()\n",
    "    except Exception as e:\n",
    "        print(str(e))\n",
    "        \n",
    "# Sqlite3 excepts a table named \"main\" and therefore gives you a warning (can be ignored)\n",
    "create_table_iris()\n",
    "\n"
   ]
  },
  {
   "cell_type": "code",
   "execution_count": 26,
   "metadata": {},
   "outputs": [
    {
     "name": "stderr",
     "output_type": "stream",
     "text": [
      "150it [00:00, 255.73it/s]\n"
     ]
    }
   ],
   "source": [
    "# One by one\n",
    "\n",
    "query = \"\"\"INSERT INTO iris(id, \"sepal.length\", \"sepal.width\", \"petal.length\", \"petal.width\", variety) VALUES (?,?,?,?,?,?)\"\"\"\n",
    "\n",
    "for row in tqdm.tqdm(df.iterrows()):\n",
    "    id_ = row[0]\n",
    "    sepal_length = row[1][\"sepal.length\"]\n",
    "    sepal_width = row[1][\"sepal.width\"]\n",
    "    petal_length = row[1][\"petal.length\"]\n",
    "    petal_width = row[1][\"petal.width\"]\n",
    "    variety = row[1][\"variety\"]\n",
    "    values = (id_,sepal_length,sepal_width,petal_length, petal_width,variety)\n",
    "    c.execute(query, values)\n",
    "    conn.commit()"
   ]
  },
  {
   "cell_type": "code",
   "execution_count": 29,
   "metadata": {},
   "outputs": [
    {
     "name": "stdout",
     "output_type": "stream",
     "text": [
      "no such table: main.id\n"
     ]
    },
    {
     "name": "stderr",
     "output_type": "stream",
     "text": [
      "  6%|▌         | 57218/1000000 [04:18<1:11:01, 221.26it/s]\n"
     ]
    },
    {
     "ename": "KeyboardInterrupt",
     "evalue": "",
     "output_type": "error",
     "traceback": [
      "\u001b[1;31m---------------------------------------------------------------------------\u001b[0m",
      "\u001b[1;31mKeyboardInterrupt\u001b[0m                         Traceback (most recent call last)",
      "\u001b[1;32m~\\AppData\\Local\\Temp\\ipykernel_8804\\3019353704.py\u001b[0m in \u001b[0;36m<module>\u001b[1;34m\u001b[0m\n\u001b[0;32m     23\u001b[0m     \u001b[0mvalues\u001b[0m \u001b[1;33m=\u001b[0m \u001b[1;33m(\u001b[0m\u001b[0mi\u001b[0m\u001b[1;33m,\u001b[0m\u001b[1;33m)\u001b[0m\u001b[1;33m\u001b[0m\u001b[1;33m\u001b[0m\u001b[0m\n\u001b[0;32m     24\u001b[0m     \u001b[0mc\u001b[0m\u001b[1;33m.\u001b[0m\u001b[0mexecute\u001b[0m\u001b[1;33m(\u001b[0m\u001b[0mquery\u001b[0m\u001b[1;33m,\u001b[0m \u001b[0mvalues\u001b[0m\u001b[1;33m)\u001b[0m\u001b[1;33m\u001b[0m\u001b[1;33m\u001b[0m\u001b[0m\n\u001b[1;32m---> 25\u001b[1;33m     \u001b[0mconn\u001b[0m\u001b[1;33m.\u001b[0m\u001b[0mcommit\u001b[0m\u001b[1;33m(\u001b[0m\u001b[1;33m)\u001b[0m\u001b[1;33m\u001b[0m\u001b[1;33m\u001b[0m\u001b[0m\n\u001b[0m",
      "\u001b[1;31mKeyboardInterrupt\u001b[0m: "
     ]
    }
   ],
   "source": [
    "conn = sqlite3.connect('data/Chap1/benchmark.db')\n",
    "c = conn.cursor()\n",
    "\n",
    "# Simple function to create table\n",
    "\n",
    "def create_table_benchmark():\n",
    "    try:\n",
    "        c.execute(\"\"\"CREATE TABLE IF NOT EXISTS test(id INT PRIMARY KEY)\"\"\")\n",
    "        # When an index is created on a column, the database system creates a data structure that contains a sorted copy of the column's values. \n",
    "        # This allows the database system to perform data retrieval operations more quickly than if it had to scan the entire table every time a query was executed.\n",
    "        c.execute(\"CREATE INDEX fast_id ON id(id)\")\n",
    "        conn.commit()\n",
    "    except Exception as e:\n",
    "        print(str(e))\n",
    "        \n",
    "# Sqlite3 excepts a table named \"main\" and therefore gives you a warning (can be ignored)\n",
    "create_table_benchmark()\n",
    "\n",
    "\n",
    "query = \"\"\"INSERT INTO test(id) VALUES (?)\"\"\"\n",
    "\n",
    "for i in tqdm.tqdm(range(0,1000000,1)):\n",
    "    values = (i,)\n",
    "    c.execute(query, values)\n",
    "    conn.commit()"
   ]
  },
  {
   "cell_type": "code",
   "execution_count": 33,
   "metadata": {},
   "outputs": [
    {
     "name": "stdout",
     "output_type": "stream",
     "text": [
      "no such table: main.id\n"
     ]
    },
    {
     "name": "stderr",
     "output_type": "stream",
     "text": [
      "100%|██████████| 1000000/1000000 [00:01<00:00, 523017.92it/s]\n"
     ]
    }
   ],
   "source": [
    "conn = sqlite3.connect('data/Chap1/benchmark.db')\n",
    "c = conn.cursor()\n",
    "\n",
    "def create_table_benchmark():\n",
    "    try:\n",
    "        c.execute(\"\"\"CREATE TABLE IF NOT EXISTS test2(id INT PRIMARY KEY)\"\"\")\n",
    "        # When an index is created on a column, the database system creates a data structure that contains a sorted copy of the column's values. \n",
    "        # This allows the database system to perform data retrieval operations more quickly than if it had to scan the entire table every time a query was executed.\n",
    "        c.execute(\"CREATE INDEX fast_id ON id(id)\")\n",
    "        conn.commit()\n",
    "    except Exception as e:\n",
    "        print(str(e))\n",
    "        \n",
    "# Sqlite3 excepts a table named \"main\" and therefore gives you a warning (can be ignored)\n",
    "create_table_benchmark()\n",
    "\n",
    "query = \"\"\"INSERT INTO test2(id) VALUES (?)\"\"\"\n",
    "\n",
    "\n",
    "list_of_insertion = []\n",
    "for i in tqdm.tqdm(range(0,1000000,1)):\n",
    "    values = (i,)\n",
    "    list_of_insertion.append(values)\n",
    "    if len(list_of_insertion) == 10000:\n",
    "        c.executemany(query, list_of_insertion)\n",
    "        conn.commit()\n",
    "        list_of_insertion = []"
   ]
  },
  {
   "attachments": {},
   "cell_type": "markdown",
   "metadata": {},
   "source": [
    "Here are some desc stats you can do using SQL language"
   ]
  },
  {
   "cell_type": "code",
   "execution_count": 41,
   "metadata": {},
   "outputs": [
    {
     "name": "stdout",
     "output_type": "stream",
     "text": [
      "[(1.7, 'Setosa', 0.3333333333333333, 2.0, 6, 0.2, 0.5), (4.8, 'Versicolor', 1.3259999999999998, 66.3, 50, 1.0, 1.8), (6.0, 'Virginica', 2.026, 101.29999999999998, 50, 1.4, 2.5)]\n"
     ]
    }
   ],
   "source": [
    "# Aggreagte function\n",
    "\n",
    "import sqlite3\n",
    "\n",
    "conn = sqlite3.connect('data/Chap1/iris_manual.db')\n",
    "c = conn.cursor()\n",
    "\n",
    "c.execute(\"\"\"SELECT \"petal.length\", variety, AVG(\"petal.width\"), SUM(\"petal.width\"), COUNT(\"petal.width\"), MIN(\"petal.width\"), MAX(\"petal.width\")\n",
    "             FROM iris \n",
    "             GROUP BY variety\n",
    "             \"\"\")\n",
    "\n",
    "docs = c.fetchall()\n",
    "print(docs)"
   ]
  },
  {
   "attachments": {},
   "cell_type": "markdown",
   "metadata": {},
   "source": [
    "Data won't be this clean in your day-to-day job. Let us take an example of a research article each observation can have different length of authors/references/..."
   ]
  },
  {
   "cell_type": "code",
   "execution_count": 43,
   "metadata": {},
   "outputs": [],
   "source": [
    "# Init variables\n",
    "authors = [\"Auteur1\",\"Auteur2\",\"Auteur3\"]\n",
    "title = \"This is paper 1\"\n",
    "affiliations = [\"University of Mannheim\",\"University of Strasbourg\"]\n",
    "ref = [\"This is ref 1\",\"This is ref 2\",\"This is ref 3\"]"
   ]
  },
  {
   "cell_type": "code",
   "execution_count": 44,
   "metadata": {},
   "outputs": [
    {
     "name": "stdout",
     "output_type": "stream",
     "text": [
      "Auteur1\n",
      "Auteur2\n",
      "Auteur3\n"
     ]
    }
   ],
   "source": [
    "# Collapse list\n",
    "\n",
    "authors = \"\\n\".join(authors)\n",
    "aff = \"\\n\".join(affiliations)\n",
    "ref = \"\\n\".join(ref)\n",
    "print(authors)"
   ]
  },
  {
   "cell_type": "code",
   "execution_count": 45,
   "metadata": {},
   "outputs": [
    {
     "name": "stdout",
     "output_type": "stream",
     "text": [
      "no such table: main.id\n"
     ]
    }
   ],
   "source": [
    "# Create the DB\n",
    "import sqlite3\n",
    "\n",
    "# connect to your db, if it does not exists it creates it.\n",
    "conn = sqlite3.connect('data/tuts.db')\n",
    "\n",
    "c = conn.cursor()\n",
    "\n",
    "# Simple function to create table\n",
    "\n",
    "def create_table_test():\n",
    "    try:\n",
    "        c.execute(\"\"\"CREATE TABLE IF NOT EXISTS test(id INT PRIMARY KEY, authors TEXT,\n",
    "                    title TEXT,affiliations TEXT, ref TEXT)\"\"\")\n",
    "        # Index to do query faster\n",
    "        c.execute(\"CREATE INDEX fast_id ON id(id)\")\n",
    "        conn.commit()\n",
    "    except Exception as e:\n",
    "        print(str(e))\n",
    "        \n",
    "# Sqlite3 excepts a table named \"main\" and therefore gives you a warning (can be ignored)\n",
    "create_table_test()\n"
   ]
  },
  {
   "cell_type": "code",
   "execution_count": 46,
   "metadata": {},
   "outputs": [],
   "source": [
    "# SQL can be finicky when trying to insert using python, big difference between \" and '\n",
    "query = \"\"\"INSERT INTO test(id, authors,title,affiliations, ref) VALUES (?,?,?,?,?)\"\"\"\n",
    "values = (3,authors,title,aff, ref)\n",
    "c.execute(query, values)\n",
    "conn.commit()"
   ]
  },
  {
   "attachments": {},
   "cell_type": "markdown",
   "metadata": {},
   "source": [
    "[Here]( https://www.sqltutorial.org/sql-cheat-sheet/) are some cheat sheet for SQL querys.\n",
    "\n",
    "SQLite is really useful to learn the language but chances are you will work with an online server and will need to use things like MySQL, Oracle, PostgreSQL,...\n",
    "The language is always (almost) the same but the way you will connect and run query might change.\n",
    "\n",
    "Let's just do a simple example of MySQL:\n",
    "\n",
    "From here https://dev.mysql.com/downloads/ you need to DL the community server, the workbench and the python connector. Once they are all installed and the server is up and running you should be able to run the next code"
   ]
  },
  {
   "cell_type": "code",
   "execution_count": 3,
   "metadata": {},
   "outputs": [
    {
     "name": "stdout",
     "output_type": "stream",
     "text": [
      "<mysql.connector.connection_cext.CMySQLConnection object at 0x000001A7BFC0DA00>\n"
     ]
    }
   ],
   "source": [
    "import mysql.connector\n",
    "\n",
    "mydb = mysql.connector.connect(\n",
    "  host=\"localhost\",\n",
    "  user=\"root\",\n",
    "  password=\"root\"\n",
    ")\n",
    "\n",
    "print(mydb) \n",
    "\n",
    "c = mydb.cursor()\n",
    "\n",
    "c.execute(\"CREATE DATABASE mydatabase\")\n"
   ]
  },
  {
   "attachments": {},
   "cell_type": "markdown",
   "metadata": {},
   "source": [
    "If a database already exist you can connect directly to it"
   ]
  },
  {
   "cell_type": "code",
   "execution_count": 5,
   "metadata": {},
   "outputs": [],
   "source": [
    "import mysql.connector\n",
    "\n",
    "mydb = mysql.connector.connect(\n",
    "  host=\"localhost\",\n",
    "  user=\"root\",\n",
    "  password=\"root\",\n",
    "  database=\"mydatabase\"\n",
    ")\n",
    "\n",
    "c = mydb.cursor()\n",
    "\n",
    "c.execute(\"CREATE TABLE customers (name VARCHAR(255), address VARCHAR(255))\")\n"
   ]
  },
  {
   "attachments": {},
   "cell_type": "markdown",
   "metadata": {},
   "source": [
    "You can now look at the DB in the workbench and execute query as seen in SQLite"
   ]
  },
  {
   "attachments": {},
   "cell_type": "markdown",
   "metadata": {},
   "source": [
    "A csv (or RDBMS) works but is it really efficient ? Imagine a scenario with even more nested data (each author has an aff, an aff can have a list a members, each members has an age, ...).You could create different tables but each time you will need to join information of this different tables. That's where NoSQL comes in to save the day.\n",
    "\n",
    "\n",
    "Modifying the architecture in SQL is clunky. A lot of time is invested designing the data model because changes will impact all or most of the layers in the application.\n",
    "\n",
    "NoSQL is:\n",
    "- Meant for unstructured data.\n",
    "- Designed to manage lots of traffic and data.\n",
    "- Has no predefined schema.\n",
    "- Easy to query.\n",
    "\n",
    "Because of the context (Big Data), Unstructured data has become more and more present hence the interest in NoSQL. Indeed JSON (more on that in chapter I) data is the commonly used data format in Javascript and Javascript is present everywhere in almost every web page (dynamic vs static).\n",
    "\n",
    "The biggest advantage of NoSQL is that you get to skip the \"understand your data and usage patterns\" steps. But is it really an advantage ?\n",
    "\n",
    "NoSQL cons:\n",
    "- Don't really know what you are working with\n",
    "- Multiplicity of different DB (Meaning different \"language\" for some)\n",
    "- Flexible but can become messy so watch out\n",
    "\n",
    "IMO: Use SQL when you have a Static data flow or the change in the data is not regular and if the data fits in a row-column format. It's always better to have a good structure even if it asks to put a lot of work before hand. If you need flexibility or the data is really nested using Nosql DBs reduces the need for joins and lookups, making your queries faster.\n"
   ]
  },
  {
   "cell_type": "markdown",
   "metadata": {},
   "source": [
    "<p style=\"text-align: center;\"><b>Proportion of DBs usage</b></p>"
   ]
  },
  {
   "cell_type": "markdown",
   "metadata": {},
   "source": [
    "![test](./img/DB_piechart.png \"Title\")"
   ]
  },
  {
   "attachments": {},
   "cell_type": "markdown",
   "metadata": {},
   "source": [
    "Nothing new but we are surrounded by a lot of data, information flows faster than ever (i.e: big data). But what exactly is the type of data we get in huge quantity ? Text, Networks, Sound, Image, ...\n",
    "\n",
    "## What is NoSQL ? SQL vs NoSQL\n",
    "\n",
    "NoSQL stands for \"Not only SQL\", every database that does not use SQL (Structured Query Language) is called NoSQL even though every NoSQL DB does not work the same way. The difference between SQL and NoSQL databases is really just a comparison of relational vs. non-relational databases. Deciding when to use SQL vs. NoSQL depends on the kind of information you’re storing and the best way to store it. Both types store data, they just store data differently.\n",
    "Imagine you have a list of variables for research papers. authors, affiliations, title, references. How do you store it in a csv ? "
   ]
  },
  {
   "cell_type": "markdown",
   "metadata": {},
   "source": [
    "The popularity of DBs using SQL is still high (3/4). In your opinion why ? "
   ]
  },
  {
   "cell_type": "markdown",
   "metadata": {},
   "source": [
    "<p style=\"text-align: center;\"><b>Non exhaustive list of companies using NoSQL</b></p>"
   ]
  },
  {
   "cell_type": "markdown",
   "metadata": {},
   "source": [
    "<table><tr>\n",
    "<td> <img src=\"./img/Google.png\" alt=\"Drawing\" style=\"width: 150px;\"/> </td>\n",
    "<td> <img src=\"./img/Amazon logo.png\" alt=\"Drawing\" style=\"width: 150px;\"/> </td>\n",
    "<td> <img src=\"./img/Facebook.png\" alt=\"Drawing\" style=\"width: 150px;\"/> </td>\n",
    "<td> <img src=\"./img/Mozilla.png\" alt=\"Drawing\" style=\"width: 150px;\"/> </td>\n",
    "<td> <img src=\"./img/netflix.png\" alt=\"Drawing\" style=\"width: 150px;\"/> </td>\n",
    "<td> <img src=\"./img/Twitter.png\" alt=\"Drawing\" style=\"width: 150px;\"/> </td>\n",
    "</tr></table>"
   ]
  },
  {
   "cell_type": "markdown",
   "metadata": {},
   "source": [
    "Think before using one or the other.\n",
    "\n",
    "Before jumping into NoSQL directly we will take a look at what a unstructured data format looks like."
   ]
  },
  {
   "attachments": {},
   "cell_type": "markdown",
   "metadata": {},
   "source": [
    "# Exercise\n",
    "\n",
    "**TODO 1**: Read all the data from bc.csv, how many rows is there ? Columns ? \n",
    "\n",
    "**TODO 2**: Insert the bc.csv in the sqlite format.\n",
    "\n",
    "**TODO 3**: In the same db create a new table called tomatch with two variables id_ and rdm_float. \n",
    "\n",
    "**TODO 4**: In the table tomatch insert observations where the id_ starts from 50k, ends at 10000000 and is only even numbers. rdm_float is a float random for each observation.\n",
    "\n",
    "**TODO 5**: Do an Inner join between the two tables and compute the different aggregate functions on a column of your choice.\n",
    "\n",
    "**TODO 6**: How many observations have a radius_mean greater than 15 ? From them how many have a texture_mean greater than 20 ?\n",
    "\n",
    "**TODO 7**: For each category in diagnosis what is the mean of all the variables ? Compute the difference between the mean of both groups\n",
    "\n",
    "\n",
    "**TODO 8**: Change the name of the column \"diagnosis\" to \"label\"\n",
    "\n",
    "**TODO 9**: Change the type of the column \"area_mean\" to int\n",
    "\n",
    "**TODO 10**: Add a column named \"day\" of type DATE.\n",
    "\n",
    "**TODO 11**: create a new table called tomatch2 exactly the same way as tomatch except you increment id_ by 10.\n",
    "\n",
    "**TODO 12**: Do an inner join of bc, tomatch and tomatch2 where the radius_mean is greater than 15, and the rdm_float is greater than 0.50 in tomatch AND tomatch2. \n",
    "\n",
    "\n"
   ]
  }
 ],
 "metadata": {
  "kernelspec": {
   "display_name": "Python 3",
   "language": "python",
   "name": "python3"
  },
  "language_info": {
   "codemirror_mode": {
    "name": "ipython",
    "version": 3
   },
   "file_extension": ".py",
   "mimetype": "text/x-python",
   "name": "python",
   "nbconvert_exporter": "python",
   "pygments_lexer": "ipython3",
   "version": "3.9.13"
  }
 },
 "nbformat": 4,
 "nbformat_minor": 4
}
