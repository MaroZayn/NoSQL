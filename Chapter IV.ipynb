{
 "cells": [
  {
   "cell_type": "markdown",
   "metadata": {},
   "source": [
    "## Neo4j\n",
    "\n",
    "## Short intro to graph theory\n",
    "\n",
    "To understand Neo4j you need some intuition to graph theory.\n",
    "\n",
    "Graph theory is the study of graphs (usually called networks in our domain). Graphs are mathematical structures used to model pairwise relations (edges) between object(nodes). A graph can be either undirected (symetrical relation) or directed (asymetrical realtion). An edge connects only two nodes (It can be twice the same node). Here's an example of a graph:\n",
    "\n",
    "<img src=\"./img/network.png\">\n",
    "\n",
    "A network can be represented in the three following format:\n",
    "\n",
    "### Adjacency matrix\n",
    "A network can be represented as an adjacency matrix. The row names and col names of this matrix is the names of the node. The cells are the relation between nodes. This matrix is symetric if the network is undirected. If directed the rows are the starting point of the edge (also called \"source\") and the columns are the end (\"target\"). Here's the adjacency matrix for the previous network:\n",
    "\n",
    "/  | Spider-man | Nick Fury | Capitain America | Iron man | \n",
    "--- | --- | --- | --- | --- |\n",
    "Spider-man | 0 | 0 | 0 | 0 |\n",
    "Nick Fury | 1 | 0 | 0 | 0 |\n",
    "Capitain America | 1 | 1 | 0 | 1 |\n",
    "Iron man | 1 | 1 | 0 | 0 |\n",
    "\n",
    "### Edge list\n",
    "\n",
    "An edge list is composed of three columns: A source, a target and a weight. In others words we focus on the edge instead of the node. A source is the node from which the edge is going out and the target the node where the edge comes in. Here's the edge list of the previous network:\n",
    "\n",
    "| Source | Target | Weight | \n",
    "| --- | --- | --- |\n",
    "| Nick Fury | Spider-man | 1 |\n",
    "| Capitain America | Spider-man | 1 |\n",
    "| Capitain America | Nick Fury | 1 |\n",
    "| Capitain America | Iron man | 1 |\n",
    "| Iron man | Spider-man | 1 |\n",
    "| Iron man | Nick Fury | 1 |\n",
    "\n",
    "### Incidence matrix\n",
    "\n",
    "An incidence matrix is probably the less used format. It's a matrix where the columns are the edges and the rows the nodes.\n",
    "\n",
    "\n",
    "/  | edge 1 | edge 2 | edge 3 | edge 4 | edge 5 | edge 6 | \n",
    "--- | --- | --- | --- | --- | --- | --- |\n",
    "Spider-man | 0 | -1 | 0 | 0 | -1 | -1 |\n",
    "Nick Fury | -1 | 0 | 0 | -1 | 0 | 1 |\n",
    "Capitain America | 1 | 1 | 1 | 0 | 0 | 0 |\n",
    "Iron man | 0 | 0 | -1 | 1 | 1 | 0 |\n"
   ]
  },
  {
   "cell_type": "markdown",
   "metadata": {},
   "source": [
    "## Neo4j DB\n",
    "\n",
    "The last chapter we worked on a document store architecture noSQL DB. Now we will focus our attention on a graph database.\n",
    "If you followed the instructions of the readme you should be able to do the next steps.\n",
    "\n",
    "First thing to do is to change the db. with neo4j to change the database you will access through the browser you need to change the conf file: conf/neo4j.conf\n",
    "\n",
    "Open this file with a text editor and add this next line:\n",
    "```\n",
    "dbms.active_database = tutorial\n",
    "```\n",
    "\n",
    "Once this is done you can go to the bin file of neo4j (if you added it to the path you can run it from anywhere)\n",
    "```\n",
    "start neo4j console\n",
    "```\n",
    "\n",
    "goto:\n",
    "http://localhost:7474/\n",
    "\n",
    "\n",
    "On this url you will be prompted to enter your username and password. default username,dbname and password is neo4j.\n",
    "\n",
    "For the good of the lecture I used the username \"tutorial\" and password \"password_tuts\". Either use the same dbname and password than me or try to change the parameters when needed (recommended).\n",
    "\n",
    "If you have small example or you are in developpment the browser is really a nice way to get more familiar with neo4j but when you scale up your application or want to retrieve data and perform different algorithm its easier to work directly on python. If you want the browser serves the same utility as DB Browser or MongoDB compass."
   ]
  },
  {
   "cell_type": "code",
   "execution_count": null,
   "metadata": {},
   "outputs": [],
   "source": [
    "import py2neo\n",
    "\n",
    "# Connect to graph db , default is auth=(\"neo4j\", \"neo4j\")\n",
    "# to change default auth just go to the localhost\n",
    "\n",
    "graph = py2neo.Graph(\"bolt://localhost:7687\", auth=(\"tutorial\", \"password_tuts\"), name=\"tutorial\")\n",
    "graph.delete_all()\n"
   ]
  },
  {
   "cell_type": "code",
   "execution_count": null,
   "metadata": {},
   "outputs": [],
   "source": [
    "# First steps in py2neo\n",
    "\n",
    "import py2neo\n",
    "\n",
    "# Connect to graph db , default is auth=(\"neo4j\", \"neo4j\")\n",
    "# to change default auth just go to the localhost\n",
    "\n",
    "graph = py2neo.Graph(\"bolt://localhost:7687\", auth=(\"tutorial\", \"password_tuts\"), name=\"tutorial\")\n",
    "graph.delete_all()\n",
    "# Node method: first argument is Node label and then arbitrary number of characteristics\n",
    "Person1 = py2neo.Node(\"Person\", name=\"Person1\", age = 25, hobbies = \"foot\") \n",
    "Person2 = py2neo.Node(\"Person\", name=\"Person2\", age = 27)\n",
    "Person3 = py2neo.Node(\"Person\", name=\"Person3\", age = 24)\n",
    "\n",
    "ab = py2neo.Relationship(Person1, \"COLLABORATED\", Person2, n_collab = 3)\n",
    "ba = py2neo.Relationship(Person2, \"COLLABORATED\", Person1, n_collab = 3)\n",
    "# You need to commit these node before they appear in the db\n",
    "# We will do that by using a transaction\n",
    "\n",
    "\n",
    "transaction = graph.begin()\n",
    "transaction.create(Person1|Person2|Person3)\n",
    "transaction.create(ab)\n",
    "transaction.create(ba)\n",
    "transaction.commit()\n",
    "\n",
    "print(graph.exists(ab))"
   ]
  },
  {
   "cell_type": "markdown",
   "metadata": {},
   "source": [
    "You can also create your own class of node type with specific argument (more structured)."
   ]
  },
  {
   "cell_type": "code",
   "execution_count": null,
   "metadata": {},
   "outputs": [],
   "source": [
    "import py2neo\n",
    "from py2neo import ogm\n",
    "import numpy as np\n",
    "import tqdm\n",
    "\n",
    "graph = py2neo.Graph(\"bolt://localhost:7687\", auth=(\"tutorial\", \"password_tuts\"), name=\"tutorial\")\n",
    "# Delete every node and relation\n",
    "graph.delete_all()\n",
    "\n",
    "# The class Person will inherit from ogm.GraphObject\n",
    "class Person(ogm.GraphObject):\n",
    "    __primarykey__ = \"id_\"\n",
    "    \n",
    "    id_ = ogm.Property()\n",
    "    name = ogm.Property()\n",
    "    age = ogm.Property()\n",
    "    \n",
    "    def __init__(self):\n",
    "        self.node = self.__ogm__.node\n",
    "\n",
    "# Init dict with the different name for random attribution     \n",
    "names = {\"0\":\"Person1\",\n",
    "        \"1\":\"Person2\",\n",
    "        \"2\":\"Person3\"}\n",
    "# Init the transaction or you will insert every node one by one which is really slow.\n",
    "transaction = graph.begin()\n",
    "iteration = 0\n",
    "for i in tqdm.tqdm(range(1000)):\n",
    "    # Create instance of class\n",
    "    ind = Person()\n",
    "    # Init variable of ind\n",
    "    ind.id_ = int(iteration)\n",
    "    name = names[str(np.random.random(3).argmax())]\n",
    "    ind.name = name\n",
    "    ind.age = int(np.random.randint(low=20, high=60, size=1)[0])\n",
    "    \n",
    "    # init transaction  \n",
    "    transaction.create(ind.node)\n",
    "    iteration += 1\n",
    "    \n",
    "    # commit transaction and reset it every 1000 iterations\n",
    "    if (i+1) % 1000 == 0:\n",
    "        transaction.commit()\n",
    "        transaction = graph.begin()"
   ]
  },
  {
   "cell_type": "markdown",
   "metadata": {},
   "source": [
    "Wors pretty well but it is pretty slow. To overcome this problem you can use Cypher queries. Cypher is Neo4j’s graph query language and is way faster than the py2neo wrapper. Cypher is, like SQL, a declarative, textual query language, but for graphs. If you have a small project you can ignore Cypher queries but if you are indeed interested by neo4j I really recommend to learn Cypher queries. We will learn CRUD operation with Cypher queries. https://neo4j.com/docs/cypher-refcard/current/."
   ]
  },
  {
   "cell_type": "markdown",
   "metadata": {},
   "source": [
    "### CREATE"
   ]
  },
  {
   "cell_type": "code",
   "execution_count": null,
   "metadata": {},
   "outputs": [],
   "source": [
    "import tqdm\n",
    "import py2neo\n",
    "import numpy as np\n",
    "graph = py2neo.Graph(\"bolt://localhost:7687\", auth=(\"tutorial\", \"password_tuts\"), name=\"tutorial\")\n",
    "graph.delete_all()\n",
    "\n",
    "names = {\"0\":\"Person1\",\n",
    "        \"1\":\"Person2\",\n",
    "        \"2\":\"Person3\"}\n",
    "\n",
    "# Execute a query with graph.run\n",
    "# Here the query creates a \"constraint\" on the id_ of the person asking for it to be unique i.e Primary key\n",
    "try:\n",
    "    graph.run(\"CREATE CONSTRAINT ON (:Person) ASSERT n.id_ IS UNIQUE\")\n",
    "except:\n",
    "    print(\"Constraint already exists\")\n",
    "    \n",
    "# init a list of transaction that we will commit at the same time\n",
    "transaction_list = []\n",
    "\n",
    "iteration = 0\n",
    "for i in tqdm.tqdm(range(100000)):\n",
    "    id_ = iteration\n",
    "    name = names[str(np.random.random(3).argmax())]\n",
    "    age = int(np.random.randint(low=20, high=60, size=1)[0])\n",
    "    # Append a dict, 1 dict per person \n",
    "    transaction_list.append({\"id_\":id_,\"name\":name,\"age\":age})\n",
    "    iteration += 1\n",
    "    if i % 1000 == 0:\n",
    "        # To commit a list of transaction with cypher you can use the UNWIND parameter\n",
    "        # $json => json will be the argument of run with the data\n",
    "        transaction = \"UNWIND $json as data CREATE (n:Person) SET n = data\"\n",
    "        graph.run(transaction, json=transaction_list)\n",
    "        transaction_list = []\n",
    "\n",
    "graph.run(transaction, json=transaction_list)\n",
    "\n",
    "# CREATE Relation\n",
    "\n",
    "# MATCH search for the pattern described in it\n",
    "# WHERE = condition\n",
    "# CREATE an edge (node)-[:Relationtype]-(node2)\n",
    "\n",
    "for i in range(10):\n",
    "    query = \"\"\"MATCH (a:Person),(b:Person)\n",
    "    WHERE a.id_ = {} AND b.id_ = {}\n",
    "    CREATE (a)-[r:COLLAB]->(b)\n",
    "    \"\"\".format(str(i),str(i+1))\n",
    "    graph.run(query)\n",
    "\n",
    "for i in range(21,25,1):\n",
    "    query = \"\"\"MATCH (a:Person),(b:Person)\n",
    "    WHERE a.id_ = %s AND b.id_ = %s\n",
    "    CREATE (a)-[:COLLAB {n_collab: %s}]->(b)\n",
    "    \"\"\"% (str(i),str(i+1),2)\n",
    "    graph.run(query)\n",
    "    \n",
    "\n",
    "transaction_list = []\n",
    "    \n",
    "for i in range(20,40,1):\n",
    "    transaction_list.append({\"id_1\":i,\"id_2\":(i+1)})\n",
    "    \n",
    "transaction = \"\"\"UNWIND $json as data\n",
    "MATCH (a:Person),(b:Person)\n",
    "WHERE a.id_ = data.id_1 AND b.id_ = data.id_2\n",
    "CREATE (a)-[:COLLAB {n_collab: 1}]->(b)\n",
    "\"\"\"\n",
    "graph.run(transaction, json=transaction_list)\n",
    "pass\n",
    "# You can't create an undirected edge but you can have the notion of undirected edges at query time.    "
   ]
  },
  {
   "cell_type": "markdown",
   "metadata": {},
   "source": [
    "### READ"
   ]
  },
  {
   "cell_type": "code",
   "execution_count": null,
   "metadata": {},
   "outputs": [],
   "source": [
    "# READ\n",
    "\n",
    "import tqdm\n",
    "import py2neo\n",
    "\n",
    "graph = py2neo.Graph(\"bolt://localhost:7687\", auth=(\"tutorial\", \"password_tuts\"), name=\"tutorial\")\n",
    "\n",
    "# RETURN returns variable specified\n",
    "\n",
    "# Count number of observation (n_node) with label Person.\n",
    "query = \"\"\"\n",
    "MATCH(person:Person)\n",
    "WITH count(person) AS n_node\n",
    "RETURN n_node\n",
    "\"\"\"\n",
    "data = graph.run(query)\n",
    "n_node = next(data)[\"n_node\"]\n",
    "print(n_node)\n",
    "\n",
    "# Return every node with Label Person\n",
    "query = \"\"\"\n",
    "MATCH(person:Person)\n",
    "RETURN person.name AS name, person.age AS age, person.id_ as id_\n",
    "\"\"\"\n",
    "\n",
    "# Returns a generator\n",
    "data = graph.run(query)\n",
    "\n",
    "#iterate through all elements\n",
    "iteration = 0\n",
    "pbar = tqdm.tqdm(total=n_node)\n",
    "\n",
    "for i in range(n_node):\n",
    "    next(data)\n",
    "    iteration += 1\n",
    "    pbar.update(1)\n",
    "\n",
    "# print last element\n",
    "print(data[\"name\"])\n",
    "print(data[\"age\"])\n",
    "print(data[\"id_\"])"
   ]
  },
  {
   "cell_type": "markdown",
   "metadata": {},
   "source": [
    "### UPDATE"
   ]
  },
  {
   "cell_type": "code",
   "execution_count": null,
   "metadata": {},
   "outputs": [],
   "source": [
    "## update\n",
    "#\n",
    "\n",
    "query = \"\"\"\n",
    "    MATCH (person:Person) \n",
    "    WHERE person.id_ < 10\n",
    "    SET person.newobs = %s\n",
    "    RETURN person.id_, person.newobs\n",
    "    \"\"\" % (43)\n",
    "\n",
    "df = graph.run(query).to_data_frame()\n",
    "print(df)"
   ]
  },
  {
   "cell_type": "markdown",
   "metadata": {},
   "source": [
    "### DELETE"
   ]
  },
  {
   "cell_type": "code",
   "execution_count": null,
   "metadata": {},
   "outputs": [],
   "source": [
    "# Delete\n",
    "# DETACH to remove edges then DELETE the node\n",
    "query = \"\"\"\n",
    "    MATCH (person:Person) \n",
    "    WHERE person.id_ < 10\n",
    "    DETACH DELETE person\n",
    "    \"\"\" \n",
    "\n",
    "graph.run(query)\n",
    "pass"
   ]
  },
  {
   "cell_type": "markdown",
   "metadata": {},
   "source": [
    "### A study case\n",
    "\n",
    "To become more familiar with neo4j we will convert a csv file to a network and do some stats using cypher queries. The data can be found [here](https://www.kaggle.com/dannielr/marvel-superheroes?select=characters.csv) and I stored it in the folder data in github. First thing to do is to switch the DB. We will call it \"MCU\". Our goal will be to create a node per character and link them by apperance in a comic (Simple binary graph, if they appeared once in the same comic then a link is created). Finally we give each node different properties (power, stats, ....) and finish by doing some query to see basics stats"
   ]
  },
  {
   "cell_type": "code",
   "execution_count": 1,
   "metadata": {},
   "outputs": [
    {
     "name": "stderr",
     "output_type": "stream",
     "text": [
      "1170it [00:00, 1439.53it/s]\n"
     ]
    }
   ],
   "source": [
    "# initial creation\n",
    "import pandas as pd\n",
    "import tqdm\n",
    "import py2neo\n",
    "\n",
    "# pandas to read_csv , header = True\n",
    "characters = pd.read_csv(\"data/Chap3/Marvel_Superheroes/characters.csv\")\n",
    "graph = py2neo.Graph(\"bolt://localhost:7687\", auth=(\"tutorial\", \"password_tuts\"), name=\"mcu\")\n",
    "\n",
    "graph.delete_all()\n",
    "\n",
    "# CONSTRAINT if condition (here n.id_ is unique) not respected => error\n",
    "# If constraint already exists pass (IF NOT EXISTS probably works too)\n",
    "try:\n",
    "    graph.run(\"CREATE CONSTRAINT ON (n:Superhero) ASSERT n.id_ IS UNIQUE\")\n",
    "except:\n",
    "    print(\"Constraint already exists\")\n",
    "\n",
    "# Init the list that will contains dicts for each node\n",
    "transaction_list = []\n",
    "\n",
    "# iterrows = line by line iterators of the df row[0] = id row[1] = the variables in columns\n",
    "for row in tqdm.tqdm(characters.iterrows()):\n",
    "    id_ = row[1][\"characterID\"]\n",
    "    name = row[1][\"name\"]\n",
    "    transaction_list.append({\"id_\":id_,\"name\":name})\n",
    "    # Commit when list = 1000, vary it depending of the case\n",
    "    if len(transaction_list) == 1000:\n",
    "        # UNWIND = split the list given to it (here $json because json=transaction_list)\n",
    "        # For each dict do the following query CREATE (n:Superhero) SET n = data\n",
    "        transaction = \"UNWIND $json as data CREATE (n:Superhero) SET n = data\"\n",
    "        graph.run(transaction, json=transaction_list)\n",
    "        transaction_list = []\n",
    "\n",
    "# Some observation left (e.g 7700 node, will commit every 100. so 700 left)\n",
    "graph.run(transaction, json=transaction_list)\n",
    "\n",
    "pass"
   ]
  },
  {
   "cell_type": "code",
   "execution_count": 2,
   "metadata": {},
   "outputs": [
    {
     "name": "stderr",
     "output_type": "stream",
     "text": [
      "611it [00:00, 3154.07it/s]\n"
     ]
    }
   ],
   "source": [
    "import pandas as pd\n",
    "import py2neo\n",
    "\n",
    "stats = pd.read_csv(\"data/Chap3/Marvel_Superheroes/characters_stats.csv\")\n",
    "graph = py2neo.Graph(\"bolt://localhost:7687\", auth=(\"tutorial\", \"password_tuts\"), name=\"mcu\")\n",
    "\n",
    "\n",
    "# OPTIONAL MATCH =>  search for the pattern described in it, while using nulls for missing parts of the pattern.\n",
    "transaction = \"\"\"UNWIND $json as data\n",
    "OPTIONAL MATCH (a:Superhero {name:data.Name})\n",
    "SET a += {Alignement:data.Alignement,Intelligence:data.Intelligence,Strength:data.Strength,Speed:data.Speed,Durability:data.Durability,\n",
    "         Power:data.Power,Combat:data.Combat,Total:data.Total} \n",
    "\"\"\"\n",
    "\n",
    "transaction_list = []\n",
    "\n",
    "iteration = 0\n",
    "for row in tqdm.tqdm(stats.iterrows()):\n",
    "    transaction_list.append(dict(row[1]))\n",
    "    iteration += 1\n",
    "    if iteration % 1000 == 0:\n",
    "        graph.run(transaction, json=transaction_list)\n",
    "        transaction_list = []\n",
    "        \n",
    "graph.run(transaction, json=transaction_list)\n",
    "\n",
    "pass"
   ]
  },
  {
   "cell_type": "code",
   "execution_count": 3,
   "metadata": {},
   "outputs": [
    {
     "name": "stderr",
     "output_type": "stream",
     "text": [
      "100%|███████████████████████████████████████████████████████████████████████████| 22250/22250 [00:29<00:00, 745.70it/s]\n"
     ]
    }
   ],
   "source": [
    "# edges\n",
    "import pandas as pd\n",
    "import tqdm\n",
    "import py2neo\n",
    "import itertools\n",
    "\n",
    "graph = py2neo.Graph(\"bolt://localhost:7687\", auth=(\"tutorial\", \"password_tuts\"), name=\"mcu\")\n",
    "\n",
    "characters2comics = pd.read_csv(\"data/Chap3/Marvel_Superheroes/charactersToComics.csv\")\n",
    "characters2comics = characters2comics.drop_duplicates()\n",
    "transaction_list = []\n",
    "\n",
    "# MERGE = if pattern does not exists ON CREATE\n",
    "# If pattern exists do ON MATCH\n",
    "\n",
    "\n",
    "\n",
    "transaction = \"\"\"UNWIND $json as data\n",
    "MATCH (a:Superhero),(b:Superhero)\n",
    "WHERE a.id_ = data.id_1 AND b.id_ = data.id_2\n",
    "MERGE (a)-[r:RELATION]->(b)\n",
    "ON CREATE\n",
    "    SET r.n_collab = 1\n",
    "ON MATCH\n",
    "    SET r.n_collab = r.n_collab + 1\n",
    "\"\"\"\n",
    "\n",
    "it = 0   \n",
    "for comic in tqdm.tqdm(characters2comics.groupby([\"comicID\"])):\n",
    "    related_ids = comic[1][\"characterID\"]\n",
    "    for combi in list(itertools.combinations(related_ids, 2)):\n",
    "        sh1 = combi[0]\n",
    "        sh2 = combi[1]\n",
    "        transaction_list.append({\"id_1\":sh1,\"id_2\":sh2})\n",
    "        it +=1\n",
    "        if it % 1000 == 0:\n",
    "            graph.run(transaction, json=transaction_list)\n",
    "            transaction_list = []\n",
    "\n",
    "graph.run(transaction, json=transaction_list)\n",
    "pass"
   ]
  },
  {
   "cell_type": "code",
   "execution_count": 4,
   "metadata": {},
   "outputs": [
    {
     "name": "stdout",
     "output_type": "stream",
     "text": [
      "0    {'n_collab': 68}\n",
      "Name: r, dtype: object 0    {'name': 'Pepper Potts', 'id_': 1009494}\n",
      "Name: a, dtype: object 0    {'Speed': 58, 'Intelligence': 100, 'id_': 1009...\n",
      "Name: b, dtype: object\n"
     ]
    }
   ],
   "source": [
    "# Let's see if everything works well\n",
    "import py2neo\n",
    "\n",
    "graph = py2neo.Graph(\"bolt://localhost:7687\", auth=(\"tutorial\", \"password_tuts\"), name=\"mcu\")\n",
    "\n",
    "query = \"\"\"MATCH (a:Superhero{name:'Pepper Potts'})-[r:RELATION]-(b:Superhero{name:'Iron Man'}) RETURN r,a,b\"\"\"\n",
    "data = graph.run(query).to_data_frame()\n",
    "print(data[\"r\"],data[\"a\"],data[\"b\"])"
   ]
  },
  {
   "cell_type": "code",
   "execution_count": 5,
   "metadata": {},
   "outputs": [],
   "source": [
    "# Time to do some interesting stats\n",
    "\n",
    "import seaborn as sns\n",
    "import py2neo\n",
    "import pandas as pd\n",
    "\n",
    "graph = py2neo.Graph(\"bolt://localhost:7687\", auth=(\"tutorial\", \"password_tuts\"), name=\"mcu\")\n",
    "\n",
    "# Get every property key and some basic stats\n",
    "\n",
    "# Get unique keys to init df\n",
    "query = \"\"\"MATCH (p:Superhero)\n",
    "WHERE exists(p.Total)\n",
    "WITH p, keys(p) as pKeys\n",
    "UNWIND pKeys as Key\n",
    "RETURN distinct Key\"\"\"\n",
    "\n",
    "data = graph.run(query).to_data_frame()\n",
    "df = pd.DataFrame(columns = list(data[\"Key\"]),dtype=\"int8\")\n"
   ]
  },
  {
   "cell_type": "code",
   "execution_count": 6,
   "metadata": {},
   "outputs": [
    {
     "name": "stdout",
     "output_type": "stream",
     "text": [
      "Empty DataFrame\n",
      "Columns: [Durability, Strength, Power, Speed, Intelligence, Combat, Total, id_, name]\n",
      "Index: []\n"
     ]
    }
   ],
   "source": [
    "print(df)"
   ]
  },
  {
   "cell_type": "code",
   "execution_count": 7,
   "metadata": {},
   "outputs": [
    {
     "name": "stdout",
     "output_type": "stream",
     "text": [
      "     Durability  Strength  Power  Speed  Intelligence  Combat\n",
      "0            56        19     46     35            63     100\n",
      "1            65        32     60     35            56      84\n",
      "2            42        11     25     23            75     100\n",
      "3            28        16     22     23            50     100\n",
      "4            14        10     19     12            75      80\n",
      "..          ...       ...    ...    ...           ...     ...\n",
      "192          14         5     62     12            25      14\n",
      "193          35        48     54     42            50      60\n",
      "194           1         1      0      1             1       1\n",
      "195          80        80     84     33            63      84\n",
      "196          80        32     38     45            63      65\n",
      "\n",
      "[197 rows x 6 columns]\n"
     ]
    }
   ],
   "source": [
    "# For each author append the dict to dataframe\n",
    "query = \"\"\"MATCH (p)\n",
    "WHERE exists(p.Total)\n",
    "RETURN p\"\"\"\n",
    "data = graph.run(query).to_data_frame()\n",
    "for node in data[\"p\"]:\n",
    "    df = df.append(dict(node), ignore_index=True)\n",
    "\n",
    "print(df.loc[:,\"Durability\":\"Combat\"])    "
   ]
  },
  {
   "cell_type": "code",
   "execution_count": 8,
   "metadata": {},
   "outputs": [
    {
     "data": {
      "text/plain": [
       "<matplotlib.axes._subplots.AxesSubplot at 0x25083c5cb80>"
      ]
     },
     "execution_count": 8,
     "metadata": {},
     "output_type": "execute_result"
    },
    {
     "data": {
      "image/png": "[encoded data removed]",
      "text/plain": [
       "<Figure size 432x288 with 1 Axes>"
      ]
     },
     "metadata": {
      "needs_background": "light"
     },
     "output_type": "display_data"
    }
   ],
   "source": [
    "sns.distplot(df[\"Strength\"])"
   ]
  },
  {
   "cell_type": "code",
   "execution_count": 9,
   "metadata": {},
   "outputs": [
    {
     "data": {
      "image/png": "[encoded data removed]",
      "text/plain": [
       "<Figure size 432x288 with 1 Axes>"
      ]
     },
     "metadata": {
      "needs_background": "light"
     },
     "output_type": "display_data"
    }
   ],
   "source": [
    "# density of degrees\n",
    "\n",
    "# The WITH clause allows query parts to be chained together, \n",
    "# piping the results from one to be used as starting points or criteria in the next.\n",
    "# size(()-[:RELATION]->(p)) = number of relation that goes into node p  \n",
    "query =  \"\"\"\n",
    "MATCH (p)\n",
    "WITH p, size(()-[:RELATION]->(p)) as degree\n",
    "RETURN degree\n",
    "\"\"\"\n",
    "data = graph.run(query).to_data_frame()\n",
    "ax = sns.distplot(data[\"degree\"],hist=False)\n",
    "ax.title.set_text(\"Density of degrees\")"
   ]
  },
  {
   "cell_type": "code",
   "execution_count": 10,
   "metadata": {},
   "outputs": [
    {
     "data": {
      "image/png": "[encoded data removed]",
      "text/plain": [
       "<Figure size 432x288 with 1 Axes>"
      ]
     },
     "metadata": {
      "needs_background": "light"
     },
     "output_type": "display_data"
    }
   ],
   "source": [
    "# density of weights\n",
    "\n",
    "# Return the n_collab attribute from link = weight of the edge\n",
    "query = \"\"\"MATCH (a:Superhero)-[r:RELATION]-(b:Superhero) RETURN r.n_collab\"\"\"\n",
    "data = graph.run(query).to_data_frame()\n",
    "ax = sns.distplot(data[\"r.n_collab\"],hist=False)\n",
    "ax.title.set_text(\"Density of weights\")"
   ]
  },
  {
   "cell_type": "code",
   "execution_count": 11,
   "metadata": {},
   "outputs": [
    {
     "data": {
      "text/plain": [
       "[Node('Superhero', Combat=85, Durability=110, Intelligence=88, Power=100, Speed=100, Strength=85, Total=568, id_=1010764, name='Stardust'),\n",
       " Node('Superhero', Combat=70, Durability=100, Intelligence=100, Power=100, Speed=83, Strength=100, Total=553, id_=1009312, name='Galactus'),\n",
       " Node('Superhero', Combat=80, Durability=100, Intelligence=88, Power=100, Speed=83, Strength=95, Total=546, id_=1009280, name='Dormammu'),\n",
       " Node('Superhero', Combat=85, Durability=100, Intelligence=69, Power=100, Speed=92, Strength=100, Total=546, id_=1009664, name='Thor'),\n",
       " Node('Superhero', Combat=70, Durability=100, Intelligence=100, Power=100, Speed=67, Strength=80, Total=517, id_=1009496, name='Jean Grey'),\n",
       " Node('Superhero', Combat=70, Durability=100, Intelligence=100, Power=100, Speed=67, Strength=80, Total=517, id_=1009327, name='Jean Grey'),\n",
       " Node('Superhero', Combat=85, Durability=100, Intelligence=88, Power=100, Speed=47, Strength=85, Total=505, id_=1009483, name='Onslaught'),\n",
       " Node('Superhero', Combat=60, Durability=100, Intelligence=100, Power=100, Speed=33, Strength=100, Total=493, id_=1009156, name='Apocalypse'),\n",
       " Node('Superhero', Combat=64, Durability=85, Intelligence=100, Power=100, Speed=58, Strength=85, Total=492, id_=1009368, name='Iron Man'),\n",
       " Node('Superhero', Combat=80, Durability=100, Intelligence=88, Power=100, Speed=17, Strength=100, Total=485, id_=1009652, name='Thanos')]"
      ]
     },
     "execution_count": 11,
     "metadata": {},
     "output_type": "execute_result"
    }
   ],
   "source": [
    "# TOP 10\n",
    "\n",
    "# ORDER BY attribute of a node\n",
    "# Only 10 result\n",
    "\n",
    "query = \"\"\"MATCH (a:Superhero)\n",
    "WHERE exists(a.Total)\n",
    "RETURN a\n",
    "ORDER BY a.Total DESC\n",
    "LIMIT 10\"\"\"\n",
    "data = graph.run(query).to_data_frame()\n",
    "list(data[\"a\"])"
   ]
  },
  {
   "cell_type": "code",
   "execution_count": 12,
   "metadata": {},
   "outputs": [
    {
     "data": {
      "image/png": "[encoded data removed]",
      "text/plain": [
       "<Figure size 432x288 with 1 Axes>"
      ]
     },
     "metadata": {
      "needs_background": "light"
     },
     "output_type": "display_data"
    }
   ],
   "source": [
    "# Does total strength affect collaboration ? seems not like it\n",
    "\n",
    "# One way is to test if strong heroes have a different density\n",
    "query = \"\"\"MATCH (a:Superhero)-[r:RELATION]-(b:Superhero) WHERE a.Total > 480 RETURN a.name,r.n_collab\"\"\"\n",
    "data = graph.run(query).to_data_frame()\n",
    "ax = sns.distplot(data[\"r.n_collab\"],hist=False)\n",
    "ax.title.set_text(\"Density of weights\")"
   ]
  },
  {
   "cell_type": "code",
   "execution_count": 13,
   "metadata": {},
   "outputs": [
    {
     "name": "stderr",
     "output_type": "stream",
     "text": [
      "100%|██████████████████████████████████████████████████████████████████████████████| 1170/1170 [00:30<00:00, 96.01it/s]"
     ]
    }
   ],
   "source": [
    "# Sometimes delete all can be slow, remove one by one this way:\n",
    "import py2neo\n",
    "\n",
    "graph = py2neo.Graph(\"bolt://localhost:7687\", auth=(\"tutorial\", \"password_tuts\"), name=\"mcu\")\n",
    "\n",
    "query = \"\"\"\n",
    "MATCH(p:Superhero)\n",
    "WITH count(p) AS n_node\n",
    "RETURN n_node\n",
    "\"\"\"\n",
    "\n",
    "data = graph.run(query)\n",
    "n_node = next(data)[\"n_node\"]\n",
    "\n",
    "query = \"\"\"\n",
    "MATCH(p:Superhero)\n",
    "RETURN p.id_\n",
    "\"\"\"\n",
    "\n",
    "# Returns a generator\n",
    "data = graph.run(query)\n",
    "\n",
    "#iterate through all elements\n",
    "iteration = 0\n",
    "pbar = tqdm.tqdm(total=n_node)\n",
    "\n",
    "for i in range(n_node):\n",
    "    Superhero = next(data)\n",
    "    query = \"\"\"\n",
    "    MATCH (p:Superhero) \n",
    "    WHERE p.id_ = {}\n",
    "    DETACH DELETE p\n",
    "    \"\"\".format(Superhero[\"p.id_\"])\n",
    "    iteration += 1\n",
    "    pbar.update(1)\n",
    "    graph.run(query)\n"
   ]
  },
  {
   "cell_type": "markdown",
   "metadata": {},
   "source": [
    "### Exercises\n",
    "\n",
    "#### CRUD operations:\n",
    "\n",
    "\n",
    "**TODO 1**: You will continue to work on the MCU network for a while. Who are the 10 fastest in the MCU ? Are they related to each other ?\n",
    "\n",
    "**TODO 2**: How many have collaborated atleast more than 10 times with another superhero?\n",
    "\n",
    "**TODO 3**: Did the weakest of the MCU collaborated with the strongest ?\n",
    "\n",
    "**TODO 4**: Give a stats that interests you !\n",
    "\n",
    "**TODO 5**: Create a new db called \"master\". Create a graph from the M1 class with name and random age between 20 and 30, Group of 3 that collab (undirected relation).\n",
    "\n",
    "**TODO 6**: Get the age for people YOU collaborate with.\n",
    "\n",
    "**TODO 7**: Get nodes with age > 25.\n",
    "\n",
    "### Real world problem:\n",
    "\n",
    "**TODO 8**: Using the downloaded data in TODO 11 of chapter II, create a collaboration network between authors for papers after 2021 (same author if same name). Insert it in neo4j in a db called \"arxiv\".\n",
    "\n",
    "**TODO 9**: Get the density of degrees of the collaboration network\n",
    "\n",
    "**TODO 10**: Do a for loop for i in range(500) for each i remove nodes with a degree less than i.\n"
   ]
  }
 ],
 "metadata": {
  "kernelspec": {
   "display_name": "Python 3",
   "language": "python",
   "name": "python3"
  },
  "language_info": {
   "codemirror_mode": {
    "name": "ipython",
    "version": 3
   },
   "file_extension": ".py",
   "mimetype": "text/x-python",
   "name": "python",
   "nbconvert_exporter": "python",
   "pygments_lexer": "ipython3",
   "version": "3.8.3"
  }
 },
 "nbformat": 4,
 "nbformat_minor": 4
}
