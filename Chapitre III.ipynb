{
 "cells": [
  {
   "cell_type": "markdown",
   "metadata": {},
   "source": [
    "## Neo4j\n",
    "\n",
    "## Short intro to graph theory\n",
    "\n",
    "To understand Neo4j you need some intuition to graph theory.\n",
    "\n",
    "Graph theory is the study of graphs (usually called networks in our domain). Graphs are mathematical structures used to model pairwise relations (edges) between object(nodes). A graph can be either undirected (symetrical relation) or directed (asymetrical realtion). An edge connects only two nodes (It can be twice the same node). Here's an example of a graph:\n",
    "\n",
    "<img src=\"./img/network.png\">\n",
    "\n",
    "A network can be represented in the three following format:\n",
    "\n",
    "### Adjacency matrix\n",
    "A network can be represented as an adjacency matrix. The row names and col names of this matrix is the names of the node. The cells are the relation between nodes. This matrix is symetric if the network is undirected. If directed the rows are the starting point of the edge (also called \"source\") and the columns are the end (\"target\"). Here's the adjacency matrix for the previous network:\n",
    "\n",
    "/  | Spider-man | Nick Fury | Capitain America | Iron man | \n",
    "--- | --- | --- | --- | --- |\n",
    "Spider-man | 0 | 0 | 0 | 0 |\n",
    "Nick Fury | 1 | 0 | 0 | 0 |\n",
    "Capitain America | 1 | 1 | 0 | 1 |\n",
    "Iron man | 1 | 1 | 0 | 0 |\n",
    "\n",
    "### Edge list\n",
    "\n",
    "An edge list is composed of three columns: A source, a target and a weight. In others words we focus on the edge instead of the node. A source is the node from which the edge is going out and the target the node where the edge comes in. Here's the edge list of the previous network:\n",
    "\n",
    "| Source | Target | Weight | \n",
    "| --- | --- | --- |\n",
    "| Nick Fury | Spider-man | 1 |\n",
    "| Capitain America | Spider-man | 1 |\n",
    "| Capitain America | Nick Fury | 1 |\n",
    "| Capitain America | Iron man | 1 |\n",
    "| Iron man | Spider-man | 1 |\n",
    "| Iron man | Nick Fury | 1 |\n",
    "\n",
    "### Incidence matrix\n",
    "\n",
    "An incidence matrix is probably the less used format. It's a matrix where the columns are the edges and the rows the nodes.\n",
    "\n",
    "\n",
    "/  | edge 1 | edge 2 | edge 3 | edge 4 | edge 5 | edge 6 | \n",
    "--- | --- | --- | --- | --- | --- | --- |\n",
    "Spider-man | 0 | -1 | 0 | 0 | -1 | -1 |\n",
    "Nick Fury | -1 | 0 | 0 | -1 | 0 | 1 |\n",
    "Capitain America | 1 | 1 | 1 | 0 | 0 | 0 |\n",
    "Iron man | 0 | 0 | -1 | 1 | 1 | 0 |\n"
   ]
  },
  {
   "cell_type": "markdown",
   "metadata": {},
   "source": [
    "## Neo4j DB\n",
    "\n",
    "The last chapter we worked on a document store architecture noSQL DB. Now we will focus our attention on a graph database.\n",
    "If you followed the instructions of the readme you should be able to do the next steps.\n",
    "\n",
    "First thing to do is to change the db. with neo4j to change the database you will access through the browser you need to change the conf file: conf/neo4j.conf\n",
    "\n",
    "Open this file with a text editor and add this next line:\n",
    "```\n",
    "dbms.active_database = tutorial\n",
    "```\n",
    "\n",
    "Once this is done you can go to the bin file of neo4j (if you added it to the path you can run it from anywhere)\n",
    "```\n",
    "start neo4j console\n",
    "```\n",
    "\n",
    "goto:\n",
    "http://localhost:7474/\n",
    "\n",
    "\n",
    "On this url you will be prompted to enter your username and password. default username,dbname and password is neo4j.\n",
    "\n",
    "For the good of the lecture I used the username \"tutorial\" and password \"password_tuts\". Either use the same dbname and password than me or try to change the parameters when needed (recommended).\n",
    "\n",
    "If you have small example or you are in developpment the browser is really a nice way to get more familiar with neo4j but when you scale up your application or want to retrieve data and perform different algorithm its easier to work directly on python. If you want the browser serves the same utility as DB Browser or MongoDB compass."
   ]
  },
  {
   "cell_type": "code",
   "execution_count": 3,
   "metadata": {},
   "outputs": [],
   "source": [
    "import py2neo\n",
    "\n",
    "# Connect to graph db , default is auth=(\"neo4j\", \"neo4j\")\n",
    "# to change default auth just go to the localhost\n",
    "\n",
    "graph = py2neo.Graph(\"bolt://localhost:7687\", auth=(\"tutorial\", \"password_tuts\"), name=\"tutorial\")\n",
    "graph.delete_all()\n"
   ]
  },
  {
   "cell_type": "code",
   "execution_count": 5,
   "metadata": {},
   "outputs": [
    {
     "name": "stdout",
     "output_type": "stream",
     "text": [
      "True\n"
     ]
    }
   ],
   "source": [
    "# First steps in py2neo\n",
    "\n",
    "import py2neo\n",
    "\n",
    "# Connect to graph db , default is auth=(\"neo4j\", \"neo4j\")\n",
    "# to change default auth just go to the localhost\n",
    "\n",
    "graph = py2neo.Graph(\"bolt://localhost:7687\", auth=(\"tutorial\", \"password_tuts\"), name=\"tutorial\")\n",
    "graph.delete_all()\n",
    "# Node method: first argument is Node label and then arbitrary number of characteristics\n",
    "Person1 = py2neo.Node(\"Person\", name=\"Person1\", age = 25) \n",
    "Person2 = py2neo.Node(\"Person\", name=\"Person2\", age = 27)\n",
    "Person3 = py2neo.Node(\"Person\", name=\"Person3\", age = 24)\n",
    "\n",
    "ab = py2neo.Relationship(Person1, \"COLLABORATED\", Person2, n_collab = 3)\n",
    "ba = py2neo.Relationship(Person2, \"COLLABORATED\", Person1, n_collab = 2)\n",
    "# You need to commit these node before they appear in the db\n",
    "# We will do that by using a transaction\n",
    "\n",
    "\n",
    "transaction = graph.begin()\n",
    "transaction.create(Person1|Person2|Person3)\n",
    "transaction.create(ab)\n",
    "transaction.create(ba)\n",
    "transaction.commit()\n",
    "\n",
    "print(graph.exists(ab))"
   ]
  },
  {
   "cell_type": "markdown",
   "metadata": {},
   "source": [
    "You can also create your own class of node type with specific argument (more structured)."
   ]
  },
  {
   "cell_type": "code",
   "execution_count": 6,
   "metadata": {},
   "outputs": [
    {
     "name": "stderr",
     "output_type": "stream",
     "text": [
      "100%|█████████████████████████████████████████████████████████████████████████████| 1000/1000 [00:06<00:00, 153.52it/s]\n"
     ]
    }
   ],
   "source": [
    "import py2neo\n",
    "from py2neo import ogm\n",
    "import numpy as np\n",
    "import tqdm\n",
    "\n",
    "graph = py2neo.Graph(\"bolt://localhost:7687\", auth=(\"tutorial\", \"password_tuts\"), name=\"tutorial\")\n",
    "# Delete every node and relation\n",
    "graph.delete_all()\n",
    "\n",
    "# The class Person will inherit from ogm.GraphObject\n",
    "class Person(ogm.GraphObject):\n",
    "    __primarykey__ = \"id_\"\n",
    "    \n",
    "    id_ = ogm.Property()\n",
    "    name = ogm.Property()\n",
    "    age = ogm.Property()\n",
    "    \n",
    "    def __init__(self):\n",
    "        self.node = self.__ogm__.node\n",
    "\n",
    "# Init dict with the different name for random attribution     \n",
    "names = {\"0\":\"Person1\",\n",
    "        \"1\":\"Person2\",\n",
    "        \"2\":\"Person3\"}\n",
    "# Init the transaction or you will insert every node one by one which is really slow.\n",
    "transaction = graph.begin()\n",
    "iteration = 0\n",
    "for i in tqdm.tqdm(range(1000)):\n",
    "    # Create instance of class\n",
    "    ind = Person()\n",
    "    # Init variable of ind\n",
    "    ind.id_ = int(iteration)\n",
    "    name = names[str(np.random.random(3).argmax())]\n",
    "    ind.name = name\n",
    "    ind.age = int(np.random.randint(low=20, high=60, size=1)[0])\n",
    "    \n",
    "    # init transaction  \n",
    "    transaction.create(ind.node)\n",
    "    iteration += 1\n",
    "    \n",
    "    # commit transaction and reset it every 1000 iterations\n",
    "    if (i+1) % 1000 == 0:\n",
    "        transaction.commit()\n",
    "        transaction = graph.begin()"
   ]
  },
  {
   "cell_type": "markdown",
   "metadata": {},
   "source": [
    "Wors pretty well but it is pretty slow. To overcome this problem you can use Cypher queries. Cypher is Neo4j’s graph query language and is way faster than the py2neo wrapper. Cypher is, like SQL, a declarative, textual query language, but for graphs. If you have a small project you can ignore Cypher queries but if you are indeed interested by neo4j I really recommend to learn Cypher queries. We will learn CRUD operation with Cypher queries. https://neo4j.com/docs/cypher-refcard/current/."
   ]
  },
  {
   "cell_type": "markdown",
   "metadata": {},
   "source": [
    "### CREATE"
   ]
  },
  {
   "cell_type": "code",
   "execution_count": 8,
   "metadata": {},
   "outputs": [
    {
     "name": "stderr",
     "output_type": "stream",
     "text": [
      "  1%|▋                                                                         | 1001/100000 [00:00<00:15, 6378.80it/s]"
     ]
    },
    {
     "name": "stdout",
     "output_type": "stream",
     "text": [
      "Constraint already exists\n"
     ]
    },
    {
     "name": "stderr",
     "output_type": "stream",
     "text": [
      "100%|███████████████████████████████████████████████████████████████████████| 100000/100000 [00:05<00:00, 18427.46it/s]\n"
     ]
    }
   ],
   "source": [
    "import tqdm\n",
    "import py2neo\n",
    "import numpy as np\n",
    "graph = py2neo.Graph(\"bolt://localhost:7687\", auth=(\"tutorial\", \"password_tuts\"), name=\"tutorial\")\n",
    "graph.delete_all()\n",
    "\n",
    "names = {\"0\":\"Person1\",\n",
    "        \"1\":\"Person2\",\n",
    "        \"2\":\"Person3\"}\n",
    "\n",
    "# Execute a query with graph.run\n",
    "# Here the query creates a \"constraint\" on the id_ of the person asking for it to be unique i.e Primary key\n",
    "try:\n",
    "    graph.run(\"CREATE CONSTRAINT ON (n:Person) ASSERT n.id_ IS UNIQUE\")\n",
    "except:\n",
    "    print(\"Constraint already exists\")\n",
    "    \n",
    "# init a list of transaction that we will commit at the same time\n",
    "transaction_list = []\n",
    "\n",
    "iteration = 0\n",
    "for i in tqdm.tqdm(range(100000)):\n",
    "    id_ = iteration\n",
    "    name = names[str(np.random.random(3).argmax())]\n",
    "    age = int(np.random.randint(low=20, high=60, size=1)[0])\n",
    "    # Append a dict, 1 dict per person \n",
    "    transaction_list.append({\"id_\":id_,\"name\":name,\"age\":age})\n",
    "    iteration += 1\n",
    "    if i % 1000 == 0:\n",
    "        # To commit a list of transaction with cypher you can use the UNWIND parameter\n",
    "        # $json => json will be the argument of run with the data\n",
    "        transaction = \"UNWIND $json as data CREATE (n:Person) SET n = data\"\n",
    "        graph.run(transaction, json=transaction_list)\n",
    "        transaction_list = []\n",
    "\n",
    "graph.run(transaction, json=transaction_list)\n",
    "\n",
    "# CREATE Relation\n",
    "\n",
    "# MATCH search for the pattern described in it\n",
    "# WHERE = condition\n",
    "# CREATE an edge (node)-[:Relationtype]-(node2)\n",
    "\n",
    "for i in range(10):\n",
    "    query = \"\"\"MATCH (a:Person),(b:Person)\n",
    "    WHERE a.id_ = {} AND b.id_ = {}\n",
    "    CREATE (a)-[r:COLLAB]->(b)\n",
    "    \"\"\".format(str(i),str(i+1))\n",
    "    graph.run(query)\n",
    "\n",
    "for i in range(21,25,1):\n",
    "    query = \"\"\"MATCH (a:Person),(b:Person)\n",
    "    WHERE a.id_ = %s AND b.id_ = %s\n",
    "    CREATE (a)-[:COLLAB {n_collab: %s}]->(b)\n",
    "    \"\"\"% (str(i),str(i+1),2)\n",
    "    graph.run(query)\n",
    "    \n",
    "\n",
    "transaction_list = []\n",
    "    \n",
    "for i in range(20,40,1):\n",
    "    transaction_list.append({\"id_1\":i,\"id_2\":(i+1)})\n",
    "    \n",
    "transaction = \"\"\"UNWIND $json as data\n",
    "MATCH (a:Person),(b:Person)\n",
    "WHERE a.id_ = data.id_1 AND b.id_ = data.id_2\n",
    "CREATE (a)-[:COLLAB {n_collab: 1}]->(b)\n",
    "\"\"\"\n",
    "graph.run(transaction, json=transaction_list)\n",
    "pass\n",
    "# You can't create an undirected edge but you can have the notion of undirected edges at query time.    "
   ]
  },
  {
   "cell_type": "markdown",
   "metadata": {},
   "source": [
    "### READ"
   ]
  },
  {
   "cell_type": "code",
   "execution_count": 10,
   "metadata": {},
   "outputs": [
    {
     "name": "stdout",
     "output_type": "stream",
     "text": [
      "100000\n"
     ]
    },
    {
     "name": "stderr",
     "output_type": "stream",
     "text": [
      "100%|████████████████████████████████████████████████████████████████████████▉| 99976/100000 [00:28<00:00, 3419.52it/s]"
     ]
    },
    {
     "name": "stdout",
     "output_type": "stream",
     "text": [
      "Person2\n",
      "59\n",
      "1000\n"
     ]
    },
    {
     "name": "stderr",
     "output_type": "stream",
     "text": [
      "100%|████████████████████████████████████████████████████████████████████████| 100000/100000 [00:40<00:00, 3419.52it/s]"
     ]
    }
   ],
   "source": [
    "# READ\n",
    "\n",
    "import tqdm\n",
    "import py2neo\n",
    "\n",
    "graph = py2neo.Graph(\"bolt://localhost:7687\", auth=(\"tutorial\", \"password_tuts\"), name=\"tutorial\")\n",
    "\n",
    "# RETURN returns variable specified\n",
    "\n",
    "# Count number of observation (n_node) with label Person.\n",
    "query = \"\"\"\n",
    "MATCH(person:Person)\n",
    "WITH count(person) AS n_node\n",
    "RETURN n_node\n",
    "\"\"\"\n",
    "data = graph.run(query)\n",
    "n_node = next(data)[\"n_node\"]\n",
    "print(n_node)\n",
    "\n",
    "# Return every node with Label Person\n",
    "query = \"\"\"\n",
    "MATCH(person:Person)\n",
    "RETURN person.name AS name, person.age AS age, person.id_ as id_\n",
    "\"\"\"\n",
    "\n",
    "# Returns a generator\n",
    "data = graph.run(query)\n",
    "\n",
    "#iterate through all elements\n",
    "iteration = 0\n",
    "pbar = tqdm.tqdm(total=n_node)\n",
    "\n",
    "for i in range(n_node):\n",
    "    next(data)\n",
    "    iteration += 1\n",
    "    pbar.update(1)\n",
    "\n",
    "# print last element\n",
    "print(data[\"name\"])\n",
    "print(data[\"age\"])\n",
    "print(data[\"id_\"])"
   ]
  },
  {
   "cell_type": "markdown",
   "metadata": {},
   "source": [
    "### UPDATE"
   ]
  },
  {
   "cell_type": "code",
   "execution_count": 11,
   "metadata": {},
   "outputs": [
    {
     "name": "stdout",
     "output_type": "stream",
     "text": [
      "   person.id_  person.newobs\n",
      "0           0             43\n",
      "1           1             43\n",
      "2           2             43\n",
      "3           3             43\n",
      "4           4             43\n",
      "5           5             43\n",
      "6           6             43\n",
      "7           7             43\n",
      "8           8             43\n",
      "9           9             43\n"
     ]
    }
   ],
   "source": [
    "## update\n",
    "#\n",
    "\n",
    "query = \"\"\"\n",
    "    MATCH (person:Person) \n",
    "    WHERE person.id_ < 10\n",
    "    SET person.newobs = %s\n",
    "    RETURN person.id_, person.newobs\n",
    "    \"\"\" % (43)\n",
    "\n",
    "df = graph.run(query).to_data_frame()\n",
    "print(df)"
   ]
  },
  {
   "cell_type": "markdown",
   "metadata": {},
   "source": [
    "### DELETE"
   ]
  },
  {
   "cell_type": "code",
   "execution_count": 13,
   "metadata": {},
   "outputs": [],
   "source": [
    "# Delete\n",
    "# DETACH to remove edges then DELETE the node\n",
    "query = \"\"\"\n",
    "    MATCH (person:Person) \n",
    "    WHERE person.id_ < 10\n",
    "    DETACH DELETE person\n",
    "    \"\"\" \n",
    "\n",
    "graph.run(query)\n",
    "pass"
   ]
  },
  {
   "cell_type": "markdown",
   "metadata": {},
   "source": [
    "### A study case\n",
    "\n",
    "To become more familiar with neo4j we will convert a csv file to a network and do some stats using cypher queries. The data can be found [here](https://www.kaggle.com/dannielr/marvel-superheroes?select=characters.csv) and I stored it in the folder data in github. First thing to do is to switch the DB. We will call it \"MCU\". Our goal will be to create a node per character and link them by apperance in a comic (Simple binary graph, if they appeared once in the same comic then a link is created). Finally we give each node different properties (power, stats, ....) and finish by doing some query to see basics stats"
   ]
  },
  {
   "cell_type": "code",
   "execution_count": 16,
   "metadata": {},
   "outputs": [
    {
     "name": "stderr",
     "output_type": "stream",
     "text": [
      "\n",
      "0it [00:00, ?it/s]\u001b[A\n",
      "1170it [00:00, 6045.04it/s]\u001b[A\n"
     ]
    },
    {
     "ename": "ValueError",
     "evalue": "Missing keys",
     "output_type": "error",
     "traceback": [
      "\u001b[1;31m---------------------------------------------------------------------------\u001b[0m",
      "\u001b[1;31mAttributeError\u001b[0m                            Traceback (most recent call last)",
      "\u001b[1;32m~\\anaconda3\\lib\\site-packages\\py2neo\\database\\work.py\u001b[0m in \u001b[0;36m__init__\u001b[1;34m(self, records, keys)\u001b[0m\n\u001b[0;32m    889\u001b[0m             \u001b[1;32mtry\u001b[0m\u001b[1;33m:\u001b[0m\u001b[1;33m\u001b[0m\u001b[1;33m\u001b[0m\u001b[0m\n\u001b[1;32m--> 890\u001b[1;33m                 \u001b[0mk\u001b[0m \u001b[1;33m=\u001b[0m \u001b[0mrecords\u001b[0m\u001b[1;33m.\u001b[0m\u001b[0mkeys\u001b[0m\u001b[1;33m(\u001b[0m\u001b[1;33m)\u001b[0m\u001b[1;33m\u001b[0m\u001b[1;33m\u001b[0m\u001b[0m\n\u001b[0m\u001b[0;32m    891\u001b[0m             \u001b[1;32mexcept\u001b[0m \u001b[0mAttributeError\u001b[0m\u001b[1;33m:\u001b[0m\u001b[1;33m\u001b[0m\u001b[1;33m\u001b[0m\u001b[0m\n",
      "\u001b[1;31mAttributeError\u001b[0m: 'list' object has no attribute 'keys'",
      "\nDuring handling of the above exception, another exception occurred:\n",
      "\u001b[1;31mValueError\u001b[0m                                Traceback (most recent call last)",
      "\u001b[1;32m~\\anaconda3\\lib\\site-packages\\IPython\\core\\formatters.py\u001b[0m in \u001b[0;36m__call__\u001b[1;34m(self, obj)\u001b[0m\n\u001b[0;32m    700\u001b[0m                 \u001b[0mtype_pprinters\u001b[0m\u001b[1;33m=\u001b[0m\u001b[0mself\u001b[0m\u001b[1;33m.\u001b[0m\u001b[0mtype_printers\u001b[0m\u001b[1;33m,\u001b[0m\u001b[1;33m\u001b[0m\u001b[1;33m\u001b[0m\u001b[0m\n\u001b[0;32m    701\u001b[0m                 deferred_pprinters=self.deferred_printers)\n\u001b[1;32m--> 702\u001b[1;33m             \u001b[0mprinter\u001b[0m\u001b[1;33m.\u001b[0m\u001b[0mpretty\u001b[0m\u001b[1;33m(\u001b[0m\u001b[0mobj\u001b[0m\u001b[1;33m)\u001b[0m\u001b[1;33m\u001b[0m\u001b[1;33m\u001b[0m\u001b[0m\n\u001b[0m\u001b[0;32m    703\u001b[0m             \u001b[0mprinter\u001b[0m\u001b[1;33m.\u001b[0m\u001b[0mflush\u001b[0m\u001b[1;33m(\u001b[0m\u001b[1;33m)\u001b[0m\u001b[1;33m\u001b[0m\u001b[1;33m\u001b[0m\u001b[0m\n\u001b[0;32m    704\u001b[0m             \u001b[1;32mreturn\u001b[0m \u001b[0mstream\u001b[0m\u001b[1;33m.\u001b[0m\u001b[0mgetvalue\u001b[0m\u001b[1;33m(\u001b[0m\u001b[1;33m)\u001b[0m\u001b[1;33m\u001b[0m\u001b[1;33m\u001b[0m\u001b[0m\n",
      "\u001b[1;32m~\\anaconda3\\lib\\site-packages\\IPython\\lib\\pretty.py\u001b[0m in \u001b[0;36mpretty\u001b[1;34m(self, obj)\u001b[0m\n\u001b[0;32m    392\u001b[0m                         \u001b[1;32mif\u001b[0m \u001b[0mcls\u001b[0m \u001b[1;32mis\u001b[0m \u001b[1;32mnot\u001b[0m \u001b[0mobject\u001b[0m\u001b[0;31m \u001b[0m\u001b[0;31m\\\u001b[0m\u001b[1;33m\u001b[0m\u001b[1;33m\u001b[0m\u001b[0m\n\u001b[0;32m    393\u001b[0m                                 \u001b[1;32mand\u001b[0m \u001b[0mcallable\u001b[0m\u001b[1;33m(\u001b[0m\u001b[0mcls\u001b[0m\u001b[1;33m.\u001b[0m\u001b[0m__dict__\u001b[0m\u001b[1;33m.\u001b[0m\u001b[0mget\u001b[0m\u001b[1;33m(\u001b[0m\u001b[1;34m'__repr__'\u001b[0m\u001b[1;33m)\u001b[0m\u001b[1;33m)\u001b[0m\u001b[1;33m:\u001b[0m\u001b[1;33m\u001b[0m\u001b[1;33m\u001b[0m\u001b[0m\n\u001b[1;32m--> 394\u001b[1;33m                             \u001b[1;32mreturn\u001b[0m \u001b[0m_repr_pprint\u001b[0m\u001b[1;33m(\u001b[0m\u001b[0mobj\u001b[0m\u001b[1;33m,\u001b[0m \u001b[0mself\u001b[0m\u001b[1;33m,\u001b[0m \u001b[0mcycle\u001b[0m\u001b[1;33m)\u001b[0m\u001b[1;33m\u001b[0m\u001b[1;33m\u001b[0m\u001b[0m\n\u001b[0m\u001b[0;32m    395\u001b[0m \u001b[1;33m\u001b[0m\u001b[0m\n\u001b[0;32m    396\u001b[0m             \u001b[1;32mreturn\u001b[0m \u001b[0m_default_pprint\u001b[0m\u001b[1;33m(\u001b[0m\u001b[0mobj\u001b[0m\u001b[1;33m,\u001b[0m \u001b[0mself\u001b[0m\u001b[1;33m,\u001b[0m \u001b[0mcycle\u001b[0m\u001b[1;33m)\u001b[0m\u001b[1;33m\u001b[0m\u001b[1;33m\u001b[0m\u001b[0m\n",
      "\u001b[1;32m~\\anaconda3\\lib\\site-packages\\IPython\\lib\\pretty.py\u001b[0m in \u001b[0;36m_repr_pprint\u001b[1;34m(obj, p, cycle)\u001b[0m\n\u001b[0;32m    698\u001b[0m     \u001b[1;34m\"\"\"A pprint that just redirects to the normal repr function.\"\"\"\u001b[0m\u001b[1;33m\u001b[0m\u001b[1;33m\u001b[0m\u001b[0m\n\u001b[0;32m    699\u001b[0m     \u001b[1;31m# Find newlines and replace them with p.break_()\u001b[0m\u001b[1;33m\u001b[0m\u001b[1;33m\u001b[0m\u001b[1;33m\u001b[0m\u001b[0m\n\u001b[1;32m--> 700\u001b[1;33m     \u001b[0moutput\u001b[0m \u001b[1;33m=\u001b[0m \u001b[0mrepr\u001b[0m\u001b[1;33m(\u001b[0m\u001b[0mobj\u001b[0m\u001b[1;33m)\u001b[0m\u001b[1;33m\u001b[0m\u001b[1;33m\u001b[0m\u001b[0m\n\u001b[0m\u001b[0;32m    701\u001b[0m     \u001b[0mlines\u001b[0m \u001b[1;33m=\u001b[0m \u001b[0moutput\u001b[0m\u001b[1;33m.\u001b[0m\u001b[0msplitlines\u001b[0m\u001b[1;33m(\u001b[0m\u001b[1;33m)\u001b[0m\u001b[1;33m\u001b[0m\u001b[1;33m\u001b[0m\u001b[0m\n\u001b[0;32m    702\u001b[0m     \u001b[1;32mwith\u001b[0m \u001b[0mp\u001b[0m\u001b[1;33m.\u001b[0m\u001b[0mgroup\u001b[0m\u001b[1;33m(\u001b[0m\u001b[1;33m)\u001b[0m\u001b[1;33m:\u001b[0m\u001b[1;33m\u001b[0m\u001b[1;33m\u001b[0m\u001b[0m\n",
      "\u001b[1;32m~\\anaconda3\\lib\\site-packages\\py2neo\\database\\work.py\u001b[0m in \u001b[0;36m__repr__\u001b[1;34m(self)\u001b[0m\n\u001b[0;32m    367\u001b[0m \u001b[1;33m\u001b[0m\u001b[0m\n\u001b[0;32m    368\u001b[0m     \u001b[1;32mdef\u001b[0m \u001b[0m__repr__\u001b[0m\u001b[1;33m(\u001b[0m\u001b[0mself\u001b[0m\u001b[1;33m)\u001b[0m\u001b[1;33m:\u001b[0m\u001b[1;33m\u001b[0m\u001b[1;33m\u001b[0m\u001b[0m\n\u001b[1;32m--> 369\u001b[1;33m         \u001b[1;32mreturn\u001b[0m \u001b[0mrepr\u001b[0m\u001b[1;33m(\u001b[0m\u001b[0mself\u001b[0m\u001b[1;33m.\u001b[0m\u001b[0mpreview\u001b[0m\u001b[1;33m(\u001b[0m\u001b[1;36m3\u001b[0m\u001b[1;33m)\u001b[0m\u001b[1;33m)\u001b[0m\u001b[1;33m\u001b[0m\u001b[1;33m\u001b[0m\u001b[0m\n\u001b[0m\u001b[0;32m    370\u001b[0m \u001b[1;33m\u001b[0m\u001b[0m\n\u001b[0;32m    371\u001b[0m     \u001b[1;32mdef\u001b[0m \u001b[0m__next__\u001b[0m\u001b[1;33m(\u001b[0m\u001b[0mself\u001b[0m\u001b[1;33m)\u001b[0m\u001b[1;33m:\u001b[0m\u001b[1;33m\u001b[0m\u001b[1;33m\u001b[0m\u001b[0m\n",
      "\u001b[1;32m~\\anaconda3\\lib\\site-packages\\py2neo\\database\\work.py\u001b[0m in \u001b[0;36mpreview\u001b[1;34m(self, limit)\u001b[0m\n\u001b[0;32m    497\u001b[0m                 \u001b[0mvalues\u001b[0m \u001b[1;33m=\u001b[0m \u001b[0mself\u001b[0m\u001b[1;33m.\u001b[0m\u001b[0m_hydrant\u001b[0m\u001b[1;33m.\u001b[0m\u001b[0mhydrate\u001b[0m\u001b[1;33m(\u001b[0m\u001b[0mkeys\u001b[0m\u001b[1;33m,\u001b[0m \u001b[0mvalues\u001b[0m\u001b[1;33m,\u001b[0m \u001b[0mentities\u001b[0m\u001b[1;33m=\u001b[0m\u001b[0mself\u001b[0m\u001b[1;33m.\u001b[0m\u001b[0m_entities\u001b[0m\u001b[1;33m,\u001b[0m \u001b[0mversion\u001b[0m\u001b[1;33m=\u001b[0m\u001b[0mv\u001b[0m\u001b[1;33m)\u001b[0m\u001b[1;33m\u001b[0m\u001b[1;33m\u001b[0m\u001b[0m\n\u001b[0;32m    498\u001b[0m             \u001b[0mrecords\u001b[0m\u001b[1;33m.\u001b[0m\u001b[0mappend\u001b[0m\u001b[1;33m(\u001b[0m\u001b[0mvalues\u001b[0m\u001b[1;33m)\u001b[0m\u001b[1;33m\u001b[0m\u001b[1;33m\u001b[0m\u001b[0m\n\u001b[1;32m--> 499\u001b[1;33m         \u001b[1;32mreturn\u001b[0m \u001b[0mTable\u001b[0m\u001b[1;33m(\u001b[0m\u001b[0mrecords\u001b[0m\u001b[1;33m,\u001b[0m \u001b[0mkeys\u001b[0m\u001b[1;33m)\u001b[0m\u001b[1;33m\u001b[0m\u001b[1;33m\u001b[0m\u001b[0m\n\u001b[0m\u001b[0;32m    500\u001b[0m \u001b[1;33m\u001b[0m\u001b[0m\n\u001b[0;32m    501\u001b[0m     \u001b[1;32mdef\u001b[0m \u001b[0mevaluate\u001b[0m\u001b[1;33m(\u001b[0m\u001b[0mself\u001b[0m\u001b[1;33m,\u001b[0m \u001b[0mfield\u001b[0m\u001b[1;33m=\u001b[0m\u001b[1;36m0\u001b[0m\u001b[1;33m)\u001b[0m\u001b[1;33m:\u001b[0m\u001b[1;33m\u001b[0m\u001b[1;33m\u001b[0m\u001b[0m\n",
      "\u001b[1;32m~\\anaconda3\\lib\\site-packages\\py2neo\\database\\work.py\u001b[0m in \u001b[0;36m__init__\u001b[1;34m(self, records, keys)\u001b[0m\n\u001b[0;32m    890\u001b[0m                 \u001b[0mk\u001b[0m \u001b[1;33m=\u001b[0m \u001b[0mrecords\u001b[0m\u001b[1;33m.\u001b[0m\u001b[0mkeys\u001b[0m\u001b[1;33m(\u001b[0m\u001b[1;33m)\u001b[0m\u001b[1;33m\u001b[0m\u001b[1;33m\u001b[0m\u001b[0m\n\u001b[0;32m    891\u001b[0m             \u001b[1;32mexcept\u001b[0m \u001b[0mAttributeError\u001b[0m\u001b[1;33m:\u001b[0m\u001b[1;33m\u001b[0m\u001b[1;33m\u001b[0m\u001b[0m\n\u001b[1;32m--> 892\u001b[1;33m                 \u001b[1;32mraise\u001b[0m \u001b[0mValueError\u001b[0m\u001b[1;33m(\u001b[0m\u001b[1;34m\"Missing keys\"\u001b[0m\u001b[1;33m)\u001b[0m\u001b[1;33m\u001b[0m\u001b[1;33m\u001b[0m\u001b[0m\n\u001b[0m\u001b[0;32m    893\u001b[0m         \u001b[0mwidth\u001b[0m \u001b[1;33m=\u001b[0m \u001b[0mlen\u001b[0m\u001b[1;33m(\u001b[0m\u001b[0mk\u001b[0m\u001b[1;33m)\u001b[0m\u001b[1;33m\u001b[0m\u001b[1;33m\u001b[0m\u001b[0m\n\u001b[0;32m    894\u001b[0m         \u001b[0mt\u001b[0m \u001b[1;33m=\u001b[0m \u001b[1;33m[\u001b[0m\u001b[0mset\u001b[0m\u001b[1;33m(\u001b[0m\u001b[1;33m)\u001b[0m \u001b[1;32mfor\u001b[0m \u001b[0m_\u001b[0m \u001b[1;32min\u001b[0m \u001b[0mrange\u001b[0m\u001b[1;33m(\u001b[0m\u001b[0mwidth\u001b[0m\u001b[1;33m)\u001b[0m\u001b[1;33m]\u001b[0m\u001b[1;33m\u001b[0m\u001b[1;33m\u001b[0m\u001b[0m\n",
      "\u001b[1;31mValueError\u001b[0m: Missing keys"
     ]
    }
   ],
   "source": [
    "# initial creation\n",
    "import pandas as pd\n",
    "import tqdm\n",
    "import py2neo\n",
    "\n",
    "# pandas to read_csv , header = True\n",
    "characters = pd.read_csv(\"data/Chap3/Marvel_Superheroes/characters.csv\")\n",
    "graph = py2neo.Graph(\"bolt://localhost:7687\", auth=(\"tutorial\", \"password_tuts\"), name=\"mcu\")\n",
    "\n",
    "graph.delete_all()\n",
    "\n",
    "# CONSTRAINT if condition (here n.id_ is unique) not respected => error\n",
    "# If constraint already exists pass (IF NOT EXISTS probably works too)\n",
    "try:\n",
    "    graph.run(\"CREATE CONSTRAINT ON (n:Superhero) ASSERT n.id_ IS UNIQUE\")\n",
    "except:\n",
    "    print(\"Constraint already exists\")\n",
    "\n",
    "# Init the list that will contains dicts for each node\n",
    "transaction_list = []\n",
    "\n",
    "# iterrows = line by line iterators of the df row[0] = id row[1] = the variables in columns\n",
    "for row in tqdm.tqdm(characters.iterrows()):\n",
    "    id_ = row[1][\"characterID\"]\n",
    "    name = row[1][\"name\"] \n",
    "    transaction_list.append({\"id_\":id_,\"name\":name})\n",
    "    # Commit when list = 1000, vary it depending of the case\n",
    "    if len(transaction_list) == 1000:\n",
    "        # UNWIND = split the list given to it (here $json because json=transaction_list)\n",
    "        # For each dict do the following query CREATE (n:Superhero) SET n = data\n",
    "        transaction = \"UNWIND $json as data CREATE (n:Superhero) SET n = data\"\n",
    "        graph.run(transaction, json=transaction_list)\n",
    "        transaction_list = []\n",
    "\n",
    "# Some observation left (e.g 7700 node, will commit every 100. so 700 left)\n",
    "graph.run(transaction, json=transaction_list)\n",
    "\n",
    "pass"
   ]
  },
  {
   "cell_type": "code",
   "execution_count": 18,
   "metadata": {},
   "outputs": [
    {
     "name": "stderr",
     "output_type": "stream",
     "text": [
      "\n",
      "0it [00:00, ?it/s]\u001b[A\n",
      "611it [00:00, 4966.98it/s]\u001b[A\n"
     ]
    }
   ],
   "source": [
    "import pandas as pd\n",
    "import py2neo\n",
    "\n",
    "graph = py2neo.Graph(\"bolt://localhost:7687\", auth=(\"tutorial\", \"password_tuts\"), name=\"mcu\")\n",
    "\n",
    "stats = pd.read_csv(\"data/Chap3/Marvel_Superheroes/characters_stats.csv\")\n",
    "\n",
    "# OPTIONAL MATCH =>  search for the pattern described in it, while using nulls for missing parts of the pattern.\n",
    "transaction = \"\"\"UNWIND $json as data\n",
    "OPTIONAL MATCH (a:Superhero {name:data.Name})\n",
    "SET a += {Alignement:data.Alignement,Intelligence:data.Intelligence,Strength:data.Strength,Speed:data.Speed,Durability:data.Durability,\n",
    "         Power:data.Power,Combat:data.Combat,Total:data.Total} \n",
    "\"\"\"\n",
    "\n",
    "transaction_list = []\n",
    "\n",
    "iteration = 0\n",
    "for row in tqdm.tqdm(stats.iterrows()):\n",
    "    transaction_list.append(dict(row[1]))\n",
    "    iteration += 1\n",
    "    if iteration % 1000 == 0:\n",
    "        graph.run(transaction, json=transaction_list)\n",
    "        transaction_list = []\n",
    "        \n",
    "graph.run(transaction, json=transaction_list)\n",
    "\n",
    "pass"
   ]
  },
  {
   "cell_type": "code",
   "execution_count": 20,
   "metadata": {},
   "outputs": [
    {
     "name": "stderr",
     "output_type": "stream",
     "text": [
      "\n",
      " 60%|████████████████████████████████████████████▍                             | 13369/22250 [00:11<00:06, 1406.94it/s]\u001b[A\n",
      " 61%|█████████████████████████████████████████████▍                            | 13666/22250 [00:11<00:05, 1547.92it/s]\u001b[A\n",
      " 62%|██████████████████████████████████████████████                            | 13856/22250 [00:11<00:05, 1399.89it/s]\u001b[A\n",
      " 63%|██████████████████████████████████████████████▊                           | 14075/22250 [00:11<00:05, 1569.76it/s]\u001b[A\n",
      " 64%|███████████████████████████████████████████████▍                          | 14252/22250 [00:11<00:05, 1521.80it/s]\u001b[A\n",
      " 65%|███████████████████████████████████████████████▉                          | 14419/22250 [00:12<00:06, 1160.98it/s]\u001b[A\n",
      " 66%|█████████████████████████████████████████████████                         | 14770/22250 [00:12<00:05, 1452.61it/s]\u001b[A\n",
      " 67%|█████████████████████████████████████████████████▊                        | 14973/22250 [00:12<00:05, 1334.03it/s]\u001b[A\n",
      " 68%|██████████████████████████████████████████████████▍                       | 15149/22250 [00:12<00:05, 1379.09it/s]\u001b[A\n",
      " 70%|███████████████████████████████████████████████████▍                      | 15473/22250 [00:12<00:04, 1664.03it/s]\u001b[A\n",
      " 71%|████████████████████████████████████████████████████▏                     | 15710/22250 [00:12<00:03, 1729.07it/s]\u001b[A\n",
      " 72%|████████████████████████████████████████████████████▉                     | 15922/22250 [00:12<00:03, 1709.73it/s]\u001b[A\n",
      " 72%|█████████████████████████████████████████████████████▌                    | 16117/22250 [00:13<00:03, 1649.75it/s]\u001b[A\n",
      " 73%|██████████████████████████████████████████████████████▎                   | 16314/22250 [00:13<00:03, 1615.82it/s]\u001b[A\n",
      " 74%|███████████████████████████████████████████████████████                   | 16573/22250 [00:13<00:03, 1707.24it/s]\u001b[A\n",
      " 75%|███████████████████████████████████████████████████████▋                  | 16754/22250 [00:13<00:03, 1653.15it/s]\u001b[A\n",
      " 76%|████████████████████████████████████████████████████████▎                 | 16943/22250 [00:13<00:03, 1621.94it/s]\u001b[A\n",
      " 77%|█████████████████████████████████████████████████████████                 | 17150/22250 [00:13<00:03, 1626.54it/s]\u001b[A\n",
      " 78%|█████████████████████████████████████████████████████████▌                | 17317/22250 [00:13<00:03, 1514.65it/s]\u001b[A\n",
      " 79%|██████████████████████████████████████████████████████████▎               | 17536/22250 [00:13<00:03, 1557.39it/s]\u001b[A\n",
      " 80%|██████████████████████████████████████████████████████████▉               | 17705/22250 [00:14<00:03, 1490.17it/s]\u001b[A\n",
      " 81%|███████████████████████████████████████████████████████████▋              | 17931/22250 [00:14<00:02, 1658.98it/s]\u001b[A\n",
      " 81%|████████████████████████████████████████████████████████████▏             | 18105/22250 [00:14<00:02, 1579.46it/s]\u001b[A\n",
      " 82%|████████████████████████████████████████████████████████████▊             | 18291/22250 [00:14<00:02, 1582.62it/s]\u001b[A\n",
      " 84%|█████████████████████████████████████████████████████████████▉            | 18612/22250 [00:14<00:01, 1866.48it/s]\u001b[A\n",
      " 85%|███████████████████████████████████████████████████████████████           | 18960/22250 [00:14<00:01, 2165.24it/s]\u001b[A\n",
      " 87%|████████████████████████████████████████████████████████████████▌         | 19401/22250 [00:14<00:01, 2503.86it/s]\u001b[A\n",
      " 89%|█████████████████████████████████████████████████████████████████▌        | 19725/22250 [00:14<00:00, 2686.95it/s]\u001b[A\n",
      " 90%|██████████████████████████████████████████████████████████████████▋       | 20041/22250 [00:14<00:00, 2810.57it/s]\u001b[A\n",
      " 92%|███████████████████████████████████████████████████████████████████▊      | 20377/22250 [00:14<00:00, 2954.95it/s]\u001b[A\n",
      " 93%|████████████████████████████████████████████████████████████████████▉     | 20735/22250 [00:15<00:00, 3067.42it/s]\u001b[A\n",
      " 95%|██████████████████████████████████████████████████████████████████████    | 21066/22250 [00:15<00:00, 3130.03it/s]\u001b[A\n",
      " 96%|███████████████████████████████████████████████████████████████████████▏  | 21390/22250 [00:15<00:00, 2500.14it/s]\u001b[A\n",
      " 97%|████████████████████████████████████████████████████████████████████████  | 21668/22250 [00:15<00:00, 2310.38it/s]\u001b[A\n",
      "100%|██████████████████████████████████████████████████████████████████████████| 22250/22250 [00:15<00:00, 1419.78it/s]\u001b[A\n"
     ]
    },
    {
     "ename": "ValueError",
     "evalue": "Missing keys",
     "output_type": "error",
     "traceback": [
      "\u001b[1;31m---------------------------------------------------------------------------\u001b[0m",
      "\u001b[1;31mAttributeError\u001b[0m                            Traceback (most recent call last)",
      "\u001b[1;32m~\\anaconda3\\lib\\site-packages\\py2neo\\database\\work.py\u001b[0m in \u001b[0;36m__init__\u001b[1;34m(self, records, keys)\u001b[0m\n\u001b[0;32m    889\u001b[0m             \u001b[1;32mtry\u001b[0m\u001b[1;33m:\u001b[0m\u001b[1;33m\u001b[0m\u001b[1;33m\u001b[0m\u001b[0m\n\u001b[1;32m--> 890\u001b[1;33m                 \u001b[0mk\u001b[0m \u001b[1;33m=\u001b[0m \u001b[0mrecords\u001b[0m\u001b[1;33m.\u001b[0m\u001b[0mkeys\u001b[0m\u001b[1;33m(\u001b[0m\u001b[1;33m)\u001b[0m\u001b[1;33m\u001b[0m\u001b[1;33m\u001b[0m\u001b[0m\n\u001b[0m\u001b[0;32m    891\u001b[0m             \u001b[1;32mexcept\u001b[0m \u001b[0mAttributeError\u001b[0m\u001b[1;33m:\u001b[0m\u001b[1;33m\u001b[0m\u001b[1;33m\u001b[0m\u001b[0m\n",
      "\u001b[1;31mAttributeError\u001b[0m: 'list' object has no attribute 'keys'",
      "\nDuring handling of the above exception, another exception occurred:\n",
      "\u001b[1;31mValueError\u001b[0m                                Traceback (most recent call last)",
      "\u001b[1;32m~\\anaconda3\\lib\\site-packages\\IPython\\core\\formatters.py\u001b[0m in \u001b[0;36m__call__\u001b[1;34m(self, obj)\u001b[0m\n\u001b[0;32m    700\u001b[0m                 \u001b[0mtype_pprinters\u001b[0m\u001b[1;33m=\u001b[0m\u001b[0mself\u001b[0m\u001b[1;33m.\u001b[0m\u001b[0mtype_printers\u001b[0m\u001b[1;33m,\u001b[0m\u001b[1;33m\u001b[0m\u001b[1;33m\u001b[0m\u001b[0m\n\u001b[0;32m    701\u001b[0m                 deferred_pprinters=self.deferred_printers)\n\u001b[1;32m--> 702\u001b[1;33m             \u001b[0mprinter\u001b[0m\u001b[1;33m.\u001b[0m\u001b[0mpretty\u001b[0m\u001b[1;33m(\u001b[0m\u001b[0mobj\u001b[0m\u001b[1;33m)\u001b[0m\u001b[1;33m\u001b[0m\u001b[1;33m\u001b[0m\u001b[0m\n\u001b[0m\u001b[0;32m    703\u001b[0m             \u001b[0mprinter\u001b[0m\u001b[1;33m.\u001b[0m\u001b[0mflush\u001b[0m\u001b[1;33m(\u001b[0m\u001b[1;33m)\u001b[0m\u001b[1;33m\u001b[0m\u001b[1;33m\u001b[0m\u001b[0m\n\u001b[0;32m    704\u001b[0m             \u001b[1;32mreturn\u001b[0m \u001b[0mstream\u001b[0m\u001b[1;33m.\u001b[0m\u001b[0mgetvalue\u001b[0m\u001b[1;33m(\u001b[0m\u001b[1;33m)\u001b[0m\u001b[1;33m\u001b[0m\u001b[1;33m\u001b[0m\u001b[0m\n",
      "\u001b[1;32m~\\anaconda3\\lib\\site-packages\\IPython\\lib\\pretty.py\u001b[0m in \u001b[0;36mpretty\u001b[1;34m(self, obj)\u001b[0m\n\u001b[0;32m    392\u001b[0m                         \u001b[1;32mif\u001b[0m \u001b[0mcls\u001b[0m \u001b[1;32mis\u001b[0m \u001b[1;32mnot\u001b[0m \u001b[0mobject\u001b[0m\u001b[0;31m \u001b[0m\u001b[0;31m\\\u001b[0m\u001b[1;33m\u001b[0m\u001b[1;33m\u001b[0m\u001b[0m\n\u001b[0;32m    393\u001b[0m                                 \u001b[1;32mand\u001b[0m \u001b[0mcallable\u001b[0m\u001b[1;33m(\u001b[0m\u001b[0mcls\u001b[0m\u001b[1;33m.\u001b[0m\u001b[0m__dict__\u001b[0m\u001b[1;33m.\u001b[0m\u001b[0mget\u001b[0m\u001b[1;33m(\u001b[0m\u001b[1;34m'__repr__'\u001b[0m\u001b[1;33m)\u001b[0m\u001b[1;33m)\u001b[0m\u001b[1;33m:\u001b[0m\u001b[1;33m\u001b[0m\u001b[1;33m\u001b[0m\u001b[0m\n\u001b[1;32m--> 394\u001b[1;33m                             \u001b[1;32mreturn\u001b[0m \u001b[0m_repr_pprint\u001b[0m\u001b[1;33m(\u001b[0m\u001b[0mobj\u001b[0m\u001b[1;33m,\u001b[0m \u001b[0mself\u001b[0m\u001b[1;33m,\u001b[0m \u001b[0mcycle\u001b[0m\u001b[1;33m)\u001b[0m\u001b[1;33m\u001b[0m\u001b[1;33m\u001b[0m\u001b[0m\n\u001b[0m\u001b[0;32m    395\u001b[0m \u001b[1;33m\u001b[0m\u001b[0m\n\u001b[0;32m    396\u001b[0m             \u001b[1;32mreturn\u001b[0m \u001b[0m_default_pprint\u001b[0m\u001b[1;33m(\u001b[0m\u001b[0mobj\u001b[0m\u001b[1;33m,\u001b[0m \u001b[0mself\u001b[0m\u001b[1;33m,\u001b[0m \u001b[0mcycle\u001b[0m\u001b[1;33m)\u001b[0m\u001b[1;33m\u001b[0m\u001b[1;33m\u001b[0m\u001b[0m\n",
      "\u001b[1;32m~\\anaconda3\\lib\\site-packages\\IPython\\lib\\pretty.py\u001b[0m in \u001b[0;36m_repr_pprint\u001b[1;34m(obj, p, cycle)\u001b[0m\n\u001b[0;32m    698\u001b[0m     \u001b[1;34m\"\"\"A pprint that just redirects to the normal repr function.\"\"\"\u001b[0m\u001b[1;33m\u001b[0m\u001b[1;33m\u001b[0m\u001b[0m\n\u001b[0;32m    699\u001b[0m     \u001b[1;31m# Find newlines and replace them with p.break_()\u001b[0m\u001b[1;33m\u001b[0m\u001b[1;33m\u001b[0m\u001b[1;33m\u001b[0m\u001b[0m\n\u001b[1;32m--> 700\u001b[1;33m     \u001b[0moutput\u001b[0m \u001b[1;33m=\u001b[0m \u001b[0mrepr\u001b[0m\u001b[1;33m(\u001b[0m\u001b[0mobj\u001b[0m\u001b[1;33m)\u001b[0m\u001b[1;33m\u001b[0m\u001b[1;33m\u001b[0m\u001b[0m\n\u001b[0m\u001b[0;32m    701\u001b[0m     \u001b[0mlines\u001b[0m \u001b[1;33m=\u001b[0m \u001b[0moutput\u001b[0m\u001b[1;33m.\u001b[0m\u001b[0msplitlines\u001b[0m\u001b[1;33m(\u001b[0m\u001b[1;33m)\u001b[0m\u001b[1;33m\u001b[0m\u001b[1;33m\u001b[0m\u001b[0m\n\u001b[0;32m    702\u001b[0m     \u001b[1;32mwith\u001b[0m \u001b[0mp\u001b[0m\u001b[1;33m.\u001b[0m\u001b[0mgroup\u001b[0m\u001b[1;33m(\u001b[0m\u001b[1;33m)\u001b[0m\u001b[1;33m:\u001b[0m\u001b[1;33m\u001b[0m\u001b[1;33m\u001b[0m\u001b[0m\n",
      "\u001b[1;32m~\\anaconda3\\lib\\site-packages\\py2neo\\database\\work.py\u001b[0m in \u001b[0;36m__repr__\u001b[1;34m(self)\u001b[0m\n\u001b[0;32m    367\u001b[0m \u001b[1;33m\u001b[0m\u001b[0m\n\u001b[0;32m    368\u001b[0m     \u001b[1;32mdef\u001b[0m \u001b[0m__repr__\u001b[0m\u001b[1;33m(\u001b[0m\u001b[0mself\u001b[0m\u001b[1;33m)\u001b[0m\u001b[1;33m:\u001b[0m\u001b[1;33m\u001b[0m\u001b[1;33m\u001b[0m\u001b[0m\n\u001b[1;32m--> 369\u001b[1;33m         \u001b[1;32mreturn\u001b[0m \u001b[0mrepr\u001b[0m\u001b[1;33m(\u001b[0m\u001b[0mself\u001b[0m\u001b[1;33m.\u001b[0m\u001b[0mpreview\u001b[0m\u001b[1;33m(\u001b[0m\u001b[1;36m3\u001b[0m\u001b[1;33m)\u001b[0m\u001b[1;33m)\u001b[0m\u001b[1;33m\u001b[0m\u001b[1;33m\u001b[0m\u001b[0m\n\u001b[0m\u001b[0;32m    370\u001b[0m \u001b[1;33m\u001b[0m\u001b[0m\n\u001b[0;32m    371\u001b[0m     \u001b[1;32mdef\u001b[0m \u001b[0m__next__\u001b[0m\u001b[1;33m(\u001b[0m\u001b[0mself\u001b[0m\u001b[1;33m)\u001b[0m\u001b[1;33m:\u001b[0m\u001b[1;33m\u001b[0m\u001b[1;33m\u001b[0m\u001b[0m\n",
      "\u001b[1;32m~\\anaconda3\\lib\\site-packages\\py2neo\\database\\work.py\u001b[0m in \u001b[0;36mpreview\u001b[1;34m(self, limit)\u001b[0m\n\u001b[0;32m    497\u001b[0m                 \u001b[0mvalues\u001b[0m \u001b[1;33m=\u001b[0m \u001b[0mself\u001b[0m\u001b[1;33m.\u001b[0m\u001b[0m_hydrant\u001b[0m\u001b[1;33m.\u001b[0m\u001b[0mhydrate\u001b[0m\u001b[1;33m(\u001b[0m\u001b[0mkeys\u001b[0m\u001b[1;33m,\u001b[0m \u001b[0mvalues\u001b[0m\u001b[1;33m,\u001b[0m \u001b[0mentities\u001b[0m\u001b[1;33m=\u001b[0m\u001b[0mself\u001b[0m\u001b[1;33m.\u001b[0m\u001b[0m_entities\u001b[0m\u001b[1;33m,\u001b[0m \u001b[0mversion\u001b[0m\u001b[1;33m=\u001b[0m\u001b[0mv\u001b[0m\u001b[1;33m)\u001b[0m\u001b[1;33m\u001b[0m\u001b[1;33m\u001b[0m\u001b[0m\n\u001b[0;32m    498\u001b[0m             \u001b[0mrecords\u001b[0m\u001b[1;33m.\u001b[0m\u001b[0mappend\u001b[0m\u001b[1;33m(\u001b[0m\u001b[0mvalues\u001b[0m\u001b[1;33m)\u001b[0m\u001b[1;33m\u001b[0m\u001b[1;33m\u001b[0m\u001b[0m\n\u001b[1;32m--> 499\u001b[1;33m         \u001b[1;32mreturn\u001b[0m \u001b[0mTable\u001b[0m\u001b[1;33m(\u001b[0m\u001b[0mrecords\u001b[0m\u001b[1;33m,\u001b[0m \u001b[0mkeys\u001b[0m\u001b[1;33m)\u001b[0m\u001b[1;33m\u001b[0m\u001b[1;33m\u001b[0m\u001b[0m\n\u001b[0m\u001b[0;32m    500\u001b[0m \u001b[1;33m\u001b[0m\u001b[0m\n\u001b[0;32m    501\u001b[0m     \u001b[1;32mdef\u001b[0m \u001b[0mevaluate\u001b[0m\u001b[1;33m(\u001b[0m\u001b[0mself\u001b[0m\u001b[1;33m,\u001b[0m \u001b[0mfield\u001b[0m\u001b[1;33m=\u001b[0m\u001b[1;36m0\u001b[0m\u001b[1;33m)\u001b[0m\u001b[1;33m:\u001b[0m\u001b[1;33m\u001b[0m\u001b[1;33m\u001b[0m\u001b[0m\n",
      "\u001b[1;32m~\\anaconda3\\lib\\site-packages\\py2neo\\database\\work.py\u001b[0m in \u001b[0;36m__init__\u001b[1;34m(self, records, keys)\u001b[0m\n\u001b[0;32m    890\u001b[0m                 \u001b[0mk\u001b[0m \u001b[1;33m=\u001b[0m \u001b[0mrecords\u001b[0m\u001b[1;33m.\u001b[0m\u001b[0mkeys\u001b[0m\u001b[1;33m(\u001b[0m\u001b[1;33m)\u001b[0m\u001b[1;33m\u001b[0m\u001b[1;33m\u001b[0m\u001b[0m\n\u001b[0;32m    891\u001b[0m             \u001b[1;32mexcept\u001b[0m \u001b[0mAttributeError\u001b[0m\u001b[1;33m:\u001b[0m\u001b[1;33m\u001b[0m\u001b[1;33m\u001b[0m\u001b[0m\n\u001b[1;32m--> 892\u001b[1;33m                 \u001b[1;32mraise\u001b[0m \u001b[0mValueError\u001b[0m\u001b[1;33m(\u001b[0m\u001b[1;34m\"Missing keys\"\u001b[0m\u001b[1;33m)\u001b[0m\u001b[1;33m\u001b[0m\u001b[1;33m\u001b[0m\u001b[0m\n\u001b[0m\u001b[0;32m    893\u001b[0m         \u001b[0mwidth\u001b[0m \u001b[1;33m=\u001b[0m \u001b[0mlen\u001b[0m\u001b[1;33m(\u001b[0m\u001b[0mk\u001b[0m\u001b[1;33m)\u001b[0m\u001b[1;33m\u001b[0m\u001b[1;33m\u001b[0m\u001b[0m\n\u001b[0;32m    894\u001b[0m         \u001b[0mt\u001b[0m \u001b[1;33m=\u001b[0m \u001b[1;33m[\u001b[0m\u001b[0mset\u001b[0m\u001b[1;33m(\u001b[0m\u001b[1;33m)\u001b[0m \u001b[1;32mfor\u001b[0m \u001b[0m_\u001b[0m \u001b[1;32min\u001b[0m \u001b[0mrange\u001b[0m\u001b[1;33m(\u001b[0m\u001b[0mwidth\u001b[0m\u001b[1;33m)\u001b[0m\u001b[1;33m]\u001b[0m\u001b[1;33m\u001b[0m\u001b[1;33m\u001b[0m\u001b[0m\n",
      "\u001b[1;31mValueError\u001b[0m: Missing keys"
     ]
    }
   ],
   "source": [
    "# edges\n",
    "import pandas as pd\n",
    "import tqdm\n",
    "import py2neo\n",
    "import itertools\n",
    "\n",
    "graph = py2neo.Graph(\"bolt://localhost:7687\", auth=(\"tutorial\", \"password_tuts\"), name=\"mcu\")\n",
    "\n",
    "characters2comics = pd.read_csv(\"data/Chap3/Marvel_Superheroes/charactersToComics.csv\")\n",
    "characters2comics = characters2comics.drop_duplicates()\n",
    "transaction_list = []\n",
    "\n",
    "# MERGE = if pattern does not exists ON CREATE\n",
    "# If pattern exists do ON MATCH\n",
    "\n",
    "transaction = \"\"\"UNWIND $json as data\n",
    "MATCH (a:Superhero),(b:Superhero)\n",
    "WHERE a.id_ = data.id_1 AND b.id_ = data.id_2\n",
    "MERGE (a)-[r:RELATION]->(b)\n",
    "ON CREATE\n",
    "    SET r.n_collab = 1\n",
    "ON MATCH\n",
    "    SET r.n_collab = r.n_collab + 1\n",
    "\"\"\"\n",
    "\n",
    "it = 0   \n",
    "for comic in tqdm.tqdm(characters2comics.groupby([\"comicID\"])):\n",
    "    related_ids = comic[1][\"characterID\"]\n",
    "    for combi in list(itertools.combinations(related_ids, 2)):\n",
    "        sh1 = combi[0]\n",
    "        sh2 = combi[1]\n",
    "        transaction_list.append({\"id_1\":sh1,\"id_2\":sh2})\n",
    "        it +=1\n",
    "        if it % 1000 == 0:\n",
    "            graph.run(transaction, json=transaction_list)\n",
    "            transaction_list = []\n",
    "\n",
    "graph.run(transaction, json=transaction_list)"
   ]
  },
  {
   "cell_type": "code",
   "execution_count": 23,
   "metadata": {},
   "outputs": [
    {
     "name": "stdout",
     "output_type": "stream",
     "text": [
      "                   r                                         a  \\\n",
      "0  {'n_collab': 136}  {'name': 'Pepper Potts', 'id_': 1009494}   \n",
      "\n",
      "                                                   b  \n",
      "0  {'Speed': 58, 'Intelligence': 100, 'id_': 1009...  \n"
     ]
    }
   ],
   "source": [
    "# Let's see if everything works well\n",
    "import py2neo\n",
    "\n",
    "graph = py2neo.Graph(\"bolt://localhost:7687\", auth=(\"tutorial\", \"password_tuts\"), name=\"mcu\")\n",
    "\n",
    "query = \"\"\"MATCH (a:Superhero{name:'Pepper Potts'})-[r:RELATION]-(b:Superhero{name:'Iron Man'}) RETURN r,a,b\"\"\"\n",
    "data = graph.run(query).to_data_frame()\n",
    "print(data)"
   ]
  },
  {
   "cell_type": "code",
   "execution_count": 24,
   "metadata": {},
   "outputs": [
    {
     "name": "stderr",
     "output_type": "stream",
     "text": [
      "C:\\Users\\kevin\\anaconda3\\lib\\site-packages\\seaborn\\distributions.py:690: UserWarning: Passing a 2D dataset for a bivariate plot is deprecated in favor of kdeplot(x, y), and it will cause an error in future versions. Please update your code.\n",
      "  warnings.warn(warn_msg, UserWarning)\n"
     ]
    },
    {
     "data": {
      "text/plain": [
       "<matplotlib.axes._subplots.AxesSubplot at 0x279fc140730>"
      ]
     },
     "execution_count": 24,
     "metadata": {},
     "output_type": "execute_result"
    },
    {
     "data": {
      "image/png": "[encoded data removed]",
      "text/plain": [
       "<Figure size 432x288 with 1 Axes>"
      ]
     },
     "metadata": {
      "needs_background": "light"
     },
     "output_type": "display_data"
    }
   ],
   "source": [
    "# Time to do some interesting stats\n",
    "\n",
    "import seaborn as sns\n",
    "import py2neo\n",
    "import pandas as pd\n",
    "\n",
    "graph = py2neo.Graph(\"bolt://localhost:7687\", auth=(\"tutorial\", \"password_tuts\"), name=\"mcu\")\n",
    "\n",
    "# Get every property key and some basic stats\n",
    "\n",
    "# Get unique keys to init df\n",
    "query = \"\"\"MATCH (p:Superhero)\n",
    "WHERE exists(p.Total)\n",
    "WITH distinct p, keys(p) as pKeys\n",
    "UNWIND pKeys as Key\n",
    "RETURN distinct labels(p), Key\"\"\"\n",
    "\n",
    "data = graph.run(query).to_data_frame()\n",
    "df = pd.DataFrame(columns = list(data[\"Key\"]),dtype=\"int8\")\n",
    "\n",
    "\n",
    "# For each author append the dict to dataframe\n",
    "query = \"\"\"MATCH (p)\n",
    "WHERE exists(p.Total)\n",
    "RETURN p\"\"\"\n",
    "data = graph.run(query).to_data_frame()\n",
    "for node in data[\"p\"]:\n",
    "    df = df.append(dict(node), ignore_index=True)\n",
    "    \n",
    "sns.kdeplot(data=df.loc[:,\"Durability\":\"Combat\"])\n",
    "\n"
   ]
  },
  {
   "cell_type": "code",
   "execution_count": 25,
   "metadata": {},
   "outputs": [
    {
     "data": {
      "image/png": "[encoded data removed]",
      "text/plain": [
       "<Figure size 432x288 with 1 Axes>"
      ]
     },
     "metadata": {
      "needs_background": "light"
     },
     "output_type": "display_data"
    }
   ],
   "source": [
    "# density of degrees\n",
    "\n",
    "# The WITH clause allows query parts to be chained together, \n",
    "# piping the results from one to be used as starting points or criteria in the next.\n",
    "# size(()-[:RELATION]->(p)) = number of relation that goes into node p  \n",
    "query =  \"\"\"\n",
    "MATCH (p)\n",
    "WITH p, size(()-[:RELATION]->(p)) as degree\n",
    "RETURN degree;\n",
    "\"\"\"\n",
    "data = graph.run(query).to_data_frame()\n",
    "ax = sns.distplot(data[\"degree\"],hist=False)\n",
    "ax.title.set_text(\"Density of degrees\")"
   ]
  },
  {
   "cell_type": "code",
   "execution_count": 26,
   "metadata": {},
   "outputs": [
    {
     "data": {
      "image/png": "[encoded data removed]",
      "text/plain": [
       "<Figure size 432x288 with 1 Axes>"
      ]
     },
     "metadata": {
      "needs_background": "light"
     },
     "output_type": "display_data"
    }
   ],
   "source": [
    "# density of weights\n",
    "\n",
    "# Return the n_collab attribute from link = weight of the edge\n",
    "query = \"\"\"MATCH (a:Superhero)-[r:RELATION]-(b:Superhero) RETURN r.n_collab\"\"\"\n",
    "data = graph.run(query).to_data_frame()\n",
    "ax = sns.distplot(data[\"r.n_collab\"],hist=False)\n",
    "ax.title.set_text(\"Density of weights\")"
   ]
  },
  {
   "cell_type": "code",
   "execution_count": 27,
   "metadata": {},
   "outputs": [
    {
     "data": {
      "text/plain": [
       "[Node('Superhero', Combat=85, Durability=110, Intelligence=88, Power=100, Speed=100, Strength=85, Total=568, id_=1010764, name='Stardust'),\n",
       " Node('Superhero', Combat=70, Durability=100, Intelligence=100, Power=100, Speed=83, Strength=100, Total=553, id_=1009312, name='Galactus'),\n",
       " Node('Superhero', Combat=80, Durability=100, Intelligence=88, Power=100, Speed=83, Strength=95, Total=546, id_=1009280, name='Dormammu'),\n",
       " Node('Superhero', Combat=85, Durability=100, Intelligence=69, Power=100, Speed=92, Strength=100, Total=546, id_=1009664, name='Thor'),\n",
       " Node('Superhero', Combat=70, Durability=100, Intelligence=100, Power=100, Speed=67, Strength=80, Total=517, id_=1009496, name='Jean Grey'),\n",
       " Node('Superhero', Combat=70, Durability=100, Intelligence=100, Power=100, Speed=67, Strength=80, Total=517, id_=1009327, name='Jean Grey'),\n",
       " Node('Superhero', Combat=85, Durability=100, Intelligence=88, Power=100, Speed=47, Strength=85, Total=505, id_=1009483, name='Onslaught'),\n",
       " Node('Superhero', Combat=60, Durability=100, Intelligence=100, Power=100, Speed=33, Strength=100, Total=493, id_=1009156, name='Apocalypse'),\n",
       " Node('Superhero', Combat=64, Durability=85, Intelligence=100, Power=100, Speed=58, Strength=85, Total=492, id_=1009368, name='Iron Man'),\n",
       " Node('Superhero', Combat=80, Durability=100, Intelligence=88, Power=100, Speed=17, Strength=100, Total=485, id_=1009652, name='Thanos')]"
      ]
     },
     "execution_count": 27,
     "metadata": {},
     "output_type": "execute_result"
    }
   ],
   "source": [
    "# TOP 10\n",
    "\n",
    "# ORDER BY attribute of a node\n",
    "# Only 10 result\n",
    "\n",
    "query = \"\"\"MATCH (a:Superhero)\n",
    "WHERE exists(a.Total)\n",
    "RETURN a\n",
    "ORDER BY a.Total DESC\n",
    "LIMIT 10\"\"\"\n",
    "data = graph.run(query).to_data_frame()\n",
    "list(data[\"a\"])"
   ]
  },
  {
   "cell_type": "code",
   "execution_count": 28,
   "metadata": {},
   "outputs": [
    {
     "data": {
      "image/png": "[encoded data removed]",
      "text/plain": [
       "<Figure size 432x288 with 1 Axes>"
      ]
     },
     "metadata": {
      "needs_background": "light"
     },
     "output_type": "display_data"
    }
   ],
   "source": [
    "# Does total strength affect collaboration ? seems not like it\n",
    "\n",
    "# One way is to test if strong heroes have a different density\n",
    "query = \"\"\"MATCH (a:Superhero)-[r:RELATION]-(b:Superhero) WHERE a.Total > 480 RETURN a.name,r.n_collab\"\"\"\n",
    "data = graph.run(query).to_data_frame()\n",
    "ax = sns.distplot(data[\"r.n_collab\"],hist=False)\n",
    "ax.title.set_text(\"Density of weights\")"
   ]
  },
  {
   "cell_type": "code",
   "execution_count": 29,
   "metadata": {},
   "outputs": [
    {
     "name": "stderr",
     "output_type": "stream",
     "text": [
      "\n",
      "  0%|                                                                                         | 0/1170 [00:00<?, ?it/s]\u001b[A\n",
      "  0%|▎                                                                                | 4/1170 [00:00<00:31, 37.03it/s]\u001b[A\n",
      "  1%|▊                                                                               | 11/1170 [00:00<00:27, 41.74it/s]\u001b[A\n",
      "  1%|█                                                                               | 16/1170 [00:00<00:27, 41.93it/s]\u001b[A\n",
      "  2%|█▍                                                                              | 21/1170 [00:00<00:26, 42.81it/s]\u001b[A\n",
      "  2%|█▊                                                                              | 27/1170 [00:00<00:24, 46.62it/s]\u001b[A\n",
      "  3%|██▎                                                                             | 33/1170 [00:00<00:23, 47.93it/s]\u001b[A\n",
      "  3%|██▋                                                                             | 39/1170 [00:00<00:22, 50.24it/s]\u001b[A\n",
      "  4%|███▏                                                                            | 46/1170 [00:00<00:20, 53.92it/s]\u001b[A\n",
      "  5%|███▌                                                                            | 53/1170 [00:00<00:19, 56.92it/s]\u001b[A\n",
      "  5%|████▏                                                                           | 62/1170 [00:01<00:17, 63.11it/s]\u001b[A\n",
      "  6%|████▋                                                                           | 69/1170 [00:01<00:17, 61.43it/s]\u001b[A\n",
      "  6%|█████▏                                                                          | 76/1170 [00:01<00:17, 61.58it/s]\u001b[A\n",
      "  7%|█████▋                                                                          | 83/1170 [00:01<00:17, 63.19it/s]\u001b[A\n",
      "  8%|██████▏                                                                         | 91/1170 [00:01<00:16, 66.27it/s]\u001b[A\n",
      "  9%|██████▊                                                                        | 100/1170 [00:01<00:15, 70.20it/s]\u001b[A\n",
      "  9%|███████▎                                                                       | 109/1170 [00:01<00:14, 73.32it/s]\u001b[A\n",
      " 10%|███████▉                                                                       | 117/1170 [00:01<00:14, 74.99it/s]\u001b[A\n",
      " 11%|████████▍                                                                      | 125/1170 [00:01<00:13, 74.92it/s]\u001b[A\n",
      " 11%|█████████                                                                      | 134/1170 [00:02<00:13, 76.08it/s]\u001b[A\n",
      " 12%|█████████▋                                                                     | 143/1170 [00:02<00:13, 78.84it/s]\u001b[A\n",
      " 13%|██████████▎                                                                    | 153/1170 [00:02<00:12, 82.53it/s]\u001b[A\n",
      " 14%|██████████▉                                                                    | 162/1170 [00:02<00:12, 80.98it/s]\u001b[A\n",
      " 15%|███████████▌                                                                   | 171/1170 [00:02<00:12, 82.36it/s]\u001b[A\n",
      " 15%|████████████▏                                                                  | 181/1170 [00:02<00:11, 85.84it/s]\u001b[A\n",
      " 16%|████████████▉                                                                  | 191/1170 [00:02<00:11, 86.62it/s]\u001b[A\n",
      " 17%|█████████████▌                                                                 | 201/1170 [00:02<00:10, 88.41it/s]\u001b[A\n",
      " 18%|██████████████▏                                                                | 210/1170 [00:02<00:10, 88.10it/s]\u001b[A\n",
      " 19%|██████████████▊                                                                | 219/1170 [00:03<00:11, 86.36it/s]\u001b[A\n",
      " 19%|███████████████▍                                                               | 228/1170 [00:03<00:10, 87.16it/s]\u001b[A\n",
      " 20%|████████████████                                                               | 237/1170 [00:03<00:11, 81.32it/s]\u001b[A\n",
      " 21%|████████████████▌                                                              | 246/1170 [00:03<00:11, 80.37it/s]\u001b[A\n",
      " 22%|█████████████████▏                                                             | 255/1170 [00:03<00:11, 80.37it/s]\u001b[A\n",
      " 23%|█████████████████▉                                                             | 265/1170 [00:03<00:10, 85.18it/s]\u001b[A\n",
      " 24%|██████████████████▌                                                            | 275/1170 [00:03<00:10, 88.52it/s]\u001b[A\n",
      " 24%|███████████████████▏                                                           | 285/1170 [00:03<00:09, 91.04it/s]\u001b[A\n",
      " 25%|███████████████████▉                                                           | 295/1170 [00:03<00:09, 91.30it/s]\u001b[A\n",
      " 26%|████████████████████▋                                                          | 306/1170 [00:04<00:09, 94.33it/s]\u001b[A\n",
      " 27%|█████████████████████▍                                                         | 317/1170 [00:04<00:08, 97.36it/s]\u001b[A\n",
      " 28%|██████████████████████▏                                                        | 328/1170 [00:04<00:08, 99.03it/s]\u001b[A\n",
      " 29%|██████████████████████▌                                                       | 339/1170 [00:04<00:08, 100.84it/s]\u001b[A\n",
      " 30%|███████████████████████▍                                                      | 351/1170 [00:04<00:07, 103.65it/s]\u001b[A\n",
      " 31%|████████████████████████▏                                                     | 363/1170 [00:04<00:07, 106.92it/s]\u001b[A\n",
      " 32%|████████████████████████▉                                                     | 374/1170 [00:04<00:07, 105.00it/s]\u001b[A\n",
      " 33%|█████████████████████████▋                                                    | 385/1170 [00:04<00:07, 101.93it/s]\u001b[A\n",
      " 34%|██████████████████████████▍                                                   | 396/1170 [00:04<00:07, 100.51it/s]\u001b[A\n",
      " 35%|███████████████████████████▏                                                  | 407/1170 [00:05<00:07, 100.91it/s]\u001b[A\n",
      " 36%|████████████████████████████▏                                                  | 418/1170 [00:05<00:07, 97.68it/s]\u001b[A\n",
      " 37%|████████████████████████████▉                                                  | 428/1170 [00:05<00:07, 97.50it/s]\u001b[A\n",
      " 38%|█████████████████████████████▋                                                 | 439/1170 [00:05<00:07, 98.60it/s]\u001b[A\n",
      " 39%|██████████████████████████████                                                | 451/1170 [00:05<00:07, 102.67it/s]\u001b[A\n",
      " 39%|██████████████████████████████▊                                               | 462/1170 [00:05<00:06, 104.75it/s]\u001b[A\n",
      " 40%|███████████████████████████████▌                                              | 473/1170 [00:05<00:06, 103.57it/s]\u001b[A\n",
      " 41%|████████████████████████████████▎                                             | 484/1170 [00:05<00:06, 103.33it/s]\u001b[A\n",
      " 42%|█████████████████████████████████                                             | 495/1170 [00:05<00:06, 104.35it/s]\u001b[A\n",
      " 43%|█████████████████████████████████▋                                            | 506/1170 [00:05<00:06, 103.58it/s]\u001b[A\n",
      " 44%|██████████████████████████████████▌                                           | 518/1170 [00:06<00:06, 107.02it/s]\u001b[A\n",
      " 45%|███████████████████████████████████▎                                          | 530/1170 [00:06<00:05, 109.16it/s]\u001b[A\n",
      " 46%|████████████████████████████████████▏                                         | 543/1170 [00:06<00:05, 114.50it/s]\u001b[A\n",
      " 48%|█████████████████████████████████████                                         | 556/1170 [00:06<00:05, 117.05it/s]\u001b[A\n",
      " 49%|█████████████████████████████████████▊                                        | 568/1170 [00:06<00:05, 117.18it/s]\u001b[A\n",
      " 50%|██████████████████████████████████████▋                                       | 581/1170 [00:06<00:04, 119.95it/s]\u001b[A\n",
      " 51%|███████████████████████████████████████▌                                      | 594/1170 [00:06<00:04, 121.36it/s]\u001b[A\n",
      " 52%|████████████████████████████████████████▍                                     | 607/1170 [00:06<00:04, 118.36it/s]\u001b[A\n",
      " 53%|█████████████████████████████████████████▎                                    | 620/1170 [00:06<00:04, 121.24it/s]\u001b[A\n",
      " 54%|██████████████████████████████████████████▏                                   | 633/1170 [00:07<00:04, 116.77it/s]\u001b[A\n",
      " 55%|███████████████████████████████████████████                                   | 646/1170 [00:07<00:04, 119.15it/s]\u001b[A\n",
      " 56%|███████████████████████████████████████████▉                                  | 659/1170 [00:07<00:04, 122.01it/s]\u001b[A\n",
      " 58%|████████████████████████████████████████████▊                                 | 673/1170 [00:07<00:04, 124.07it/s]\u001b[A\n",
      " 59%|█████████████████████████████████████████████▋                                | 686/1170 [00:07<00:03, 125.42it/s]\u001b[A\n",
      " 60%|██████████████████████████████████████████████▌                               | 699/1170 [00:07<00:03, 126.00it/s]\u001b[A\n",
      " 61%|███████████████████████████████████████████████▌                              | 713/1170 [00:07<00:03, 128.15it/s]\u001b[A\n",
      " 62%|████████████████████████████████████████████████▍                             | 727/1170 [00:07<00:03, 129.47it/s]\u001b[A\n",
      " 63%|█████████████████████████████████████████████████▎                            | 740/1170 [00:07<00:03, 128.54it/s]\u001b[A\n",
      " 64%|██████████████████████████████████████████████████▏                           | 753/1170 [00:07<00:03, 128.55it/s]\u001b[A\n",
      " 65%|███████████████████████████████████████████████████                           | 766/1170 [00:08<00:03, 125.61it/s]\u001b[A\n",
      " 67%|████████████████████████████████████████████████████                          | 780/1170 [00:08<00:03, 127.45it/s]\u001b[A\n",
      " 68%|████████████████████████████████████████████████████▉                         | 794/1170 [00:08<00:02, 129.87it/s]\u001b[A\n",
      " 69%|█████████████████████████████████████████████████████▊                        | 808/1170 [00:08<00:02, 131.24it/s]\u001b[A\n",
      " 70%|██████████████████████████████████████████████████████▊                       | 822/1170 [00:08<00:02, 130.65it/s]\u001b[A\n",
      " 71%|███████████████████████████████████████████████████████▋                      | 836/1170 [00:08<00:02, 131.15it/s]\u001b[A\n",
      " 73%|████████████████████████████████████████████████████████▋                     | 850/1170 [00:08<00:02, 128.93it/s]\u001b[A\n",
      " 74%|█████████████████████████████████████████████████████████▌                    | 864/1170 [00:08<00:02, 130.66it/s]\u001b[A\n",
      " 75%|██████████████████████████████████████████████████████████▌                   | 879/1170 [00:08<00:02, 133.51it/s]\u001b[A\n",
      " 76%|███████████████████████████████████████████████████████████▌                  | 893/1170 [00:09<00:02, 132.92it/s]\u001b[A\n",
      " 78%|████████████████████████████████████████████████████████████▍                 | 907/1170 [00:09<00:01, 133.82it/s]\u001b[A\n",
      " 79%|█████████████████████████████████████████████████████████████▍                | 921/1170 [00:09<00:01, 135.20it/s]\u001b[A\n",
      " 80%|██████████████████████████████████████████████████████████████▎               | 935/1170 [00:09<00:01, 134.20it/s]\u001b[A\n",
      " 81%|███████████████████████████████████████████████████████████████▎              | 949/1170 [00:09<00:01, 134.37it/s]\u001b[A\n",
      " 82%|████████████████████████████████████████████████████████████████▏             | 963/1170 [00:09<00:01, 133.44it/s]\u001b[A\n",
      " 84%|█████████████████████████████████████████████████████████████████▏            | 977/1170 [00:09<00:01, 133.37it/s]\u001b[A\n",
      " 85%|██████████████████████████████████████████████████████████████████            | 991/1170 [00:09<00:01, 134.80it/s]\u001b[A\n",
      " 86%|██████████████████████████████████████████████████████████████████▏          | 1005/1170 [00:09<00:01, 132.29it/s]\u001b[A\n",
      " 87%|███████████████████████████████████████████████████████████████████          | 1019/1170 [00:09<00:01, 133.13it/s]\u001b[A\n",
      " 88%|███████████████████████████████████████████████████████████████████▉         | 1033/1170 [00:10<00:01, 134.68it/s]\u001b[A\n",
      " 89%|████████████████████████████████████████████████████████████████████▉        | 1047/1170 [00:10<00:00, 132.77it/s]\u001b[A\n",
      " 91%|█████████████████████████████████████████████████████████████████████▊       | 1061/1170 [00:10<00:00, 126.95it/s]\u001b[A\n",
      " 92%|██████████████████████████████████████████████████████████████████████▋      | 1074/1170 [00:10<00:00, 125.99it/s]\u001b[A\n",
      " 93%|███████████████████████████████████████████████████████████████████████▌     | 1087/1170 [00:10<00:00, 124.18it/s]\u001b[A\n",
      " 94%|████████████████████████████████████████████████████████████████████████▍    | 1101/1170 [00:10<00:00, 127.39it/s]\u001b[A\n",
      " 95%|█████████████████████████████████████████████████████████████████████████▎   | 1114/1170 [00:10<00:00, 126.29it/s]\u001b[A\n",
      " 96%|██████████████████████████████████████████████████████████████████████████▏  | 1127/1170 [00:10<00:00, 124.10it/s]\u001b[A\n",
      " 98%|███████████████████████████████████████████████████████████████████████████  | 1141/1170 [00:10<00:00, 126.19it/s]\u001b[A\n",
      " 99%|███████████████████████████████████████████████████████████████████████████▉ | 1154/1170 [00:11<00:00, 126.56it/s]\u001b[A\n",
      "100%|████████████████████████████████████████████████████████████████████████████▊| 1167/1170 [00:11<00:00, 127.20it/s]\u001b[A\n",
      "100%|█████████████████████████████████████████████████████████████████████████████| 1170/1170 [00:21<00:00, 127.20it/s]\u001b[A"
     ]
    }
   ],
   "source": [
    "# Sometimes delete all can be slow, remove one by one this way:\n",
    "import py2neo\n",
    "\n",
    "graph = py2neo.Graph(\"bolt://localhost:7687\", auth=(\"tutorial\", \"password_tuts\"), name=\"mcu\")\n",
    "\n",
    "query = \"\"\"\n",
    "MATCH(p:Superhero)\n",
    "WITH count(p) AS n_node\n",
    "RETURN n_node\n",
    "\"\"\"\n",
    "\n",
    "data = graph.run(query)\n",
    "n_node = next(data)[\"n_node\"]\n",
    "\n",
    "query = \"\"\"\n",
    "MATCH(p:Superhero)\n",
    "RETURN p.id_\n",
    "\"\"\"\n",
    "\n",
    "# Returns a generator\n",
    "data = graph.run(query)\n",
    "\n",
    "#iterate through all elements\n",
    "iteration = 0\n",
    "pbar = tqdm.tqdm(total=n_node)\n",
    "\n",
    "for i in range(n_node):\n",
    "    Superhero = next(data)\n",
    "    query = \"\"\"\n",
    "    MATCH (p:Superhero) \n",
    "    WHERE p.id_ = {}\n",
    "    DETACH DELETE p\n",
    "    \"\"\".format(Superhero[\"p.id_\"])\n",
    "    iteration += 1\n",
    "    pbar.update(1)\n",
    "    graph.run(query)\n"
   ]
  },
  {
   "cell_type": "markdown",
   "metadata": {},
   "source": [
    "### Exercises\n",
    "\n",
    "#### CRUD operations:\n",
    "\n",
    "\n",
    "**TODO 1**: You will continue to work on the MCU network for a while. Who are the 10 fastest in the MCU ? Are they related to each other ?\n",
    "\n",
    "**TODO 2**: How many have collaborated atleast more than 10 times with another superhero?\n",
    "\n",
    "**TODO 3**: Did the weakest of the MCU collaborated with the strongest ?\n",
    "\n",
    "**TODO 4**: Give a stats that interests you !\n",
    "\n",
    "**TODO 5**: Create a new db called \"master\". Create a graph from the M1 class with name and random age between 20 and 30, Group of 3 that collab (undirected relation).\n",
    "\n",
    "**TODO 6**: Get the age for people YOU collaborate with.\n",
    "\n",
    "**TODO 7**: Get nodes with age > 25.\n",
    "\n",
    "### Real world problem:\n",
    "\n",
    "**TODO 8**: Using the downloaded data in TODO 11 of chapter II, create a collaboration network between authors for papers after 2021 (same author if same name). Insert it in neo4j in a db called \"arxiv\".\n",
    "\n",
    "**TODO 9**: Get the density of degrees of the collaboration network\n",
    "\n",
    "**TODO 10**: Do a for loop for i in range(500) for each i remove nodes with a degree less than i.\n"
   ]
  }
 ],
 "metadata": {
  "kernelspec": {
   "display_name": "Python 3",
   "language": "python",
   "name": "python3"
  },
  "language_info": {
   "codemirror_mode": {
    "name": "ipython",
    "version": 3
   },
   "file_extension": ".py",
   "mimetype": "text/x-python",
   "name": "python",
   "nbconvert_exporter": "python",
   "pygments_lexer": "ipython3",
   "version": "3.8.3"
  }
 },
 "nbformat": 4,
 "nbformat_minor": 4
}
