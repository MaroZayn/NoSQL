{
 "cells": [
  {
   "cell_type": "markdown",
   "metadata": {},
   "source": [
    "### Homework 1\n",
    "\n",
    "[pubmed_last_100k.json](https://we.tl/t-6afLCDGRsg) is a file containing metadatas from pubmed articles. Your goal is to **convert the json to a mongo DB** and answer the following questions **USING** mongodb querys:\n",
    "\n",
    "1) Create an index, explain your choice of key.\n",
    "\n",
    "2) Delete every paper that was published prior 2019\n",
    "\n",
    "3) How many paper have a single author ? Two authors ?\n",
    "\n",
    "4) What's the last paper inserted in the db ?\n",
    "\n",
    "5) Find articles with null meshwords.\n",
    "\n",
    "6) Choose a keyword you are interested in (machine learning, computer vision,...). Find the number of articles with the choosen keyword in their meshwords, abstract or title.\n",
    "\n",
    "7) What's the number of articles that have atleast one affiliation AND meshwords.\n",
    "\n",
    "8) How many articles have a publishing date after 2020 ?\n",
    "\n",
    "9) Find articles where there's atleast one affiliation from a choosen country (you decide which one).\n",
    "\n",
    "10) Check for any duplicates. (hint: look at the doi or the pmid)\n",
    "\n",
    "11) Remove every articles where the abstract starts with an \"R\".\n",
    "\n",
    "12) Return the list of papers (pmid) where there's atleast one affiliation per author\n",
    "\n",
    "13) Create 500 random samples of the dataset, compute a statistics that you are interested in and check how it behaves through the different samples\n",
    "\n",
    "14) Sandbox exercise: think of a problematic and try to answer it."
   ]
  },
  {
   "cell_type": "markdown",
   "metadata": {},
   "source": [
    "### Homework 2\n",
    "\n",
    "Following **TODO 11** of chapter II, select the papers for three [categories](http://export.arxiv.org/oai2?verb=ListSets) . Insert papers inside MongoDB.\n",
    "\n",
    "\n",
    "1) Create an index, explain your choice of key.\n",
    "\n",
    "2) Delete every paper that was published prior 2015\n",
    "\n",
    "3) How many paper have a single author ? Two authors ?\n",
    "\n",
    "4) What's the last paper inserted in the db ?\n",
    "\n",
    "5) Find the number of articles with \"technology\" in their summary or title.\n",
    "\n",
    "6) Find articles with missing arxiv_comment.\n",
    "\n",
    "7) What's the number of articles that have an arxiv_affiliation .\n",
    "\n",
    "8) How many articles have a publishing date after 2019 ?.\n",
    "\n",
    "9) Find articles where the arxiv_affiliation contains the word \"China\".\n",
    "\n",
    "10) Check for any duplicates.\n",
    "\n",
    "11) Remove every articles where summary starts with an \"R\".\n",
    "\n",
    "12) Create 500 random samples of the dataset, compute a statistics that you are interested in and check how it behaves through the different samples\n",
    "\n",
    "13) Sandbox exercise: think of a problematic and try to answer it."
   ]
  }
 ],
 "metadata": {
  "kernelspec": {
   "display_name": "Python 3 (ipykernel)",
   "language": "python",
   "name": "python3"
  },
  "language_info": {
   "codemirror_mode": {
    "name": "ipython",
    "version": 3
   },
   "file_extension": ".py",
   "mimetype": "text/x-python",
   "name": "python",
   "nbconvert_exporter": "python",
   "pygments_lexer": "ipython3",
   "version": "3.8.8"
  }
 },
 "nbformat": 4,
 "nbformat_minor": 4
}
